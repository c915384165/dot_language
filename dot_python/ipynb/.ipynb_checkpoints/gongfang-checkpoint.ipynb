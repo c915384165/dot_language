{
 "cells": [
  {
   "cell_type": "code",
   "execution_count": 1,
   "metadata": {},
   "outputs": [],
   "source": [
    "from graphviz import Digraph"
   ]
  },
  {
   "cell_type": "code",
   "execution_count": 2,
   "metadata": {},
   "outputs": [],
   "source": [
    "import csv"
   ]
  },
  {
   "cell_type": "code",
   "execution_count": 3,
   "metadata": {},
   "outputs": [
    {
     "data": {
      "text/plain": [
       "'/Users/mac/myproject/mydot/dot_python/ipynb'"
      ]
     },
     "execution_count": 3,
     "metadata": {},
     "output_type": "execute_result"
    }
   ],
   "source": [
    "pwd"
   ]
  },
  {
   "cell_type": "code",
   "execution_count": 6,
   "metadata": {},
   "outputs": [],
   "source": [
    "# 读取csv文件，返回一个列表，每行为一个子列表\n",
    "\n",
    "def csv_interface(filename):\n",
    "    ls = []\n",
    "    with open(filename,'r', newline='') as fo:\n",
    "        reader = csv.reader(fo, dialect='excel', delimiter=',')\n",
    "        for row in reader:\n",
    "            ls.append(row)\n",
    "    return ls"
   ]
  },
  {
   "cell_type": "code",
   "execution_count": 8,
   "metadata": {},
   "outputs": [],
   "source": [
    "input_data = csv_interface(\"gongfang.csv\")"
   ]
  },
  {
   "cell_type": "code",
   "execution_count": 48,
   "metadata": {},
   "outputs": [],
   "source": [
    "# 删除标题行 ， 截取对应行\n",
    "input_data_a = input_data[1:63]"
   ]
  },
  {
   "cell_type": "code",
   "execution_count": 52,
   "metadata": {},
   "outputs": [
    {
     "name": "stdout",
     "output_type": "stream",
     "text": [
      "['牛奶', '生菜']\n",
      "['蛋糕', '小麦', '牛奶']\n",
      "['奶油', '牛奶']\n",
      "['苹果醋', '苹果']\n",
      "['鸡蛋', '小麦']\n",
      "['番茄酱', '番茄']\n",
      "['橙汁', '橙子']\n",
      "['水果拼盘', '番茄', '草莓', '橙子']\n",
      "['豆腐', '黄豆']\n",
      "['鸡蛋灌饼', '鸡蛋']\n",
      "['奶糖', '草莓', '牛奶']\n",
      "['饼干', '小麦', '鸡蛋']\n",
      "['麦片', '玉米']\n",
      "['薯片', '土豆', '奶油']\n",
      "['白砂糖', '甘蔗']\n",
      "['面粉', '小麦']\n",
      "['猪肉', '红薯']\n",
      "['香肠', '猪肉']\n",
      "['意大利面', '面粉', '鸡蛋']\n",
      "['玫瑰精油', '玫瑰']\n",
      "['橄榄油', '橄榄']\n",
      "['麦片巧克力', '麦片', '巧克力', '橄榄油']\n",
      "['蜂蜜', '向日葵']\n",
      "['芥末', '蜂蜜', '橄榄', '鸡蛋']\n",
      "['牛肉', '玉米']\n",
      "['生面团', '小麦', '橄榄油']\n",
      "['花生饼干', '饼干', '花生']\n",
      "['爆米花', '玉米', '橄榄油', '蜂蜜']\n",
      "['羊毛', '黄豆']\n",
      "['甜甜圈', '小麦', '橄榄油']\n",
      "['毛线', '羊毛']\n",
      "['葡萄酒', '葡萄']\n",
      "['苹果酱', '苹果', '蜂蜜']\n",
      "['皮草', '红薯', '玉米', '黄豆']\n",
      "['皮包', '皮草']\n",
      "['沙拉油', '玉米']\n",
      "['巧克力', '可可', '甘蔗']\n",
      "['奶茶', '白砂糖', '牛奶']\n",
      "['杏仁饼干', '饼干', '杏仁']\n",
      "['肉脯', '牛肉']\n",
      "['烤肉', '牛肉', '橄榄油']\n",
      "['拉面', '生面团', '肉脯']\n",
      "['杏仁巧克力', '巧克力', '牛奶', '杏仁']\n",
      "['鹿茸', '芦荟']\n",
      "['草莓酱', '草莓', '蜂蜜']\n",
      "['樱桃糖果', '樱桃', '白砂糖']\n",
      "['木材', '红松木']\n",
      "['家具', '木材', '皮草']\n",
      "['米', '水稻']\n",
      "['鸡肉', '小麦']\n",
      "['元宵', '米', '花生']\n",
      "['葡萄酱', '葡萄', '蜂蜜']\n",
      "['山羊奶', '胡萝卜']\n",
      "['奶酪', '山羊奶']\n",
      "['栗子蛋糕', '栗子', '蛋糕']\n",
      "['毛衣', '棉花', '羊毛']\n",
      "['玩具', '棉花', '毛线']\n",
      "['花生酱', '花生', '奶油']\n",
      "['蛋黄酱', '橄榄', '鸡蛋']\n",
      "['牛排', '牛肉', '芦笋', '洋葱']\n",
      "['巧克力饼干', '巧克力', '饼干']\n",
      "['香水', '薰衣草', '玫瑰精油']\n"
     ]
    }
   ],
   "source": [
    "for i in input_data_a:\n",
    "    i = [a for a in i[1:5] if a != '']\n",
    "    print(i)"
   ]
  },
  {
   "cell_type": "code",
   "execution_count": 101,
   "metadata": {},
   "outputs": [],
   "source": [
    "gra_gongfang = Digraph(\"gra_gongfang\")\n",
    "gra_gongfang.attr(rankdir='LR')"
   ]
  },
  {
   "cell_type": "code",
   "execution_count": 21,
   "metadata": {},
   "outputs": [],
   "source": [
    "def add_tag_si (s,i=''):\n",
    "    return('<'+s+str(i)+'>')"
   ]
  },
  {
   "cell_type": "code",
   "execution_count": 30,
   "metadata": {},
   "outputs": [],
   "source": [
    "def add_tag_for_list(l):\n",
    "    length = len(l)\n",
    "    ls=[]\n",
    "    for i in range(length):\n",
    "        if l[i] != '':\n",
    "            ls.append(add_tag_si('',i)+' '+str(l[i]))\n",
    "    return('|'.join(ls))"
   ]
  },
  {
   "cell_type": "code",
   "execution_count": 24,
   "metadata": {},
   "outputs": [
    {
     "data": {
      "text/plain": [
       "'<0> a|<1> b|<2> c|<3> d'"
      ]
     },
     "execution_count": 24,
     "metadata": {},
     "output_type": "execute_result"
    }
   ],
   "source": [
    "add_tag_for_list(l2)"
   ]
  },
  {
   "cell_type": "code",
   "execution_count": 80,
   "metadata": {},
   "outputs": [],
   "source": [
    "def add_record_node_from_l (graph_name, node_name, l):\n",
    "    my_source = graph_name+'.'+'node('+'\\''+node_name+'\\''+',' +'\\''+add_tag_for_list(l)+'\\''+', shape=\"record\")'\n",
    "#     print(my_source)\n",
    "    exec(my_source)"
   ]
  },
  {
   "cell_type": "code",
   "execution_count": 32,
   "metadata": {},
   "outputs": [
    {
     "name": "stdout",
     "output_type": "stream",
     "text": [
      "gra_gongfang.node('牛奶','<0> 奶牛舍|<1> 牛奶|<2> 生菜|<5> 30s|<6> 1|<7> 1', shape=\"record\")\n"
     ]
    }
   ],
   "source": [
    "add_record_node_from_l ('gra_gongfang', '牛奶',['奶牛舍', '牛奶', '生菜', '', '', '30s', '1', '1', '', '', '', '', ''])"
   ]
  },
  {
   "cell_type": "code",
   "execution_count": 83,
   "metadata": {},
   "outputs": [],
   "source": [
    "def add_edge_from_l (graph_name, l):\n",
    "    for i in l[1:]:\n",
    "        my_source = graph_name+'.'+'edge(' + \"'\" + i + \"'\" + \",\"+ \"'\" + l[0] + \"'\" + ')'\n",
    "#         print(my_source)\n",
    "        exec(my_source)"
   ]
  },
  {
   "cell_type": "code",
   "execution_count": 76,
   "metadata": {},
   "outputs": [
    {
     "name": "stdout",
     "output_type": "stream",
     "text": [
      "gra_gongfang.edge('牛奶','奶牛舍')\n",
      "gra_gongfang.edge('生菜','奶牛舍')\n"
     ]
    }
   ],
   "source": [
    "add_edge_from_l ('gra_gongfang', ['奶牛舍', '牛奶', '生菜'])"
   ]
  },
  {
   "cell_type": "code",
   "execution_count": 97,
   "metadata": {},
   "outputs": [],
   "source": [
    "for i in input_data_a:\n",
    "    ls = []\n",
    "    ls.append(i[1])\n",
    "    add_record_node_from_l('gra_gongfang',i[1],ls+i[5:8])"
   ]
  },
  {
   "cell_type": "code",
   "execution_count": 102,
   "metadata": {},
   "outputs": [],
   "source": [
    "for i in input_data_a:\n",
    "    i = [a for a in i[1:5] if a != '']\n",
    "    add_edge_from_l('gra_gongfang',i)"
   ]
  },
  {
   "cell_type": "code",
   "execution_count": 104,
   "metadata": {},
   "outputs": [
    {
     "data": {
      "text/plain": [
       "'test-table.gv.pdf'"
      ]
     },
     "execution_count": 104,
     "metadata": {},
     "output_type": "execute_result"
    }
   ],
   "source": [
    "gra_gongfang.render('test-table.gv', view=True)"
   ]
  },
  {
   "cell_type": "code",
   "execution_count": null,
   "metadata": {},
   "outputs": [],
   "source": [
    "render('test-table.gv', view=True)"
   ]
  }
 ],
 "metadata": {
  "kernelspec": {
   "display_name": "mac",
   "language": "python",
   "name": "mac"
  },
  "language_info": {
   "codemirror_mode": {
    "name": "ipython",
    "version": 3
   },
   "file_extension": ".py",
   "mimetype": "text/x-python",
   "name": "python",
   "nbconvert_exporter": "python",
   "pygments_lexer": "ipython3",
   "version": "3.7.3"
  }
 },
 "nbformat": 4,
 "nbformat_minor": 2
}
