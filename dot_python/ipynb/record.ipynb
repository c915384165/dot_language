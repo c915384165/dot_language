{
 "cells": [
  {
   "cell_type": "markdown",
   "metadata": {},
   "source": [
    "# record"
   ]
  },
  {
   "cell_type": "markdown",
   "metadata": {},
   "source": [
    "如何用python graphviz 画record格式图。官方给出3种语法格式。"
   ]
  },
  {
   "cell_type": "markdown",
   "metadata": {},
   "source": [
    "* html语法格式\n",
    "* dot修正格式\n",
    "* nohtml格式"
   ]
  },
  {
   "cell_type": "markdown",
   "metadata": {},
   "source": [
    "### html语法格式的record"
   ]
  },
  {
   "cell_type": "code",
   "execution_count": 14,
   "metadata": {},
   "outputs": [
    {
     "data": {
      "text/plain": [
       "'structs.gv.pdf'"
      ]
     },
     "execution_count": 14,
     "metadata": {},
     "output_type": "execute_result"
    }
   ],
   "source": [
    "# structs.py - http://www.graphviz.org/doc/info/shapes.html#html\n",
    "\n",
    "from graphviz import Digraph\n",
    "\n",
    "s = Digraph('structs', node_attr={'shape': 'plaintext'})\n",
    "\n",
    "s.node('struct1', '''<\n",
    "<TABLE BORDER=\"0\" CELLBORDER=\"1\" CELLSPACING=\"0\">\n",
    "  <TR>\n",
    "    <TD>left</TD>\n",
    "    <TD PORT=\"f1\">middle</TD>\n",
    "    <TD PORT=\"f2\">right</TD>\n",
    "  </TR>\n",
    "</TABLE>>''')\n",
    "s.node('struct2', '''<\n",
    "<TABLE BORDER=\"0\" CELLBORDER=\"1\" CELLSPACING=\"0\">\n",
    "  <TR>\n",
    "    <TD PORT=\"f0\">one</TD>\n",
    "    <TD>two</TD>\n",
    "  </TR>\n",
    "</TABLE>>''')\n",
    "s.node('struct3', '''<\n",
    "<TABLE BORDER=\"0\" CELLBORDER=\"1\" CELLSPACING=\"0\" CELLPADDING=\"4\">\n",
    "  <TR>\n",
    "    <TD ROWSPAN=\"3\">hello<BR/>world</TD>\n",
    "    <TD COLSPAN=\"3\">b</TD>\n",
    "    <TD ROWSPAN=\"3\">g</TD>\n",
    "    <TD ROWSPAN=\"3\">h</TD>\n",
    "  </TR>\n",
    "  <TR>\n",
    "    <TD>c</TD>\n",
    "    <TD PORT=\"here\">d</TD>\n",
    "    <TD>e</TD>\n",
    "  </TR>\n",
    "  <TR>\n",
    "    <TD COLSPAN=\"3\">f</TD>\n",
    "  </TR>\n",
    "</TABLE>>''')\n",
    "\n",
    "s.edges([('struct1:f1', 'struct2:f0'), ('struct1:f2', 'struct3:here')])\n",
    "\n",
    "s.view()"
   ]
  },
  {
   "cell_type": "markdown",
   "metadata": {},
   "source": [
    "### dot修正版本"
   ]
  },
  {
   "cell_type": "code",
   "execution_count": 38,
   "metadata": {},
   "outputs": [
    {
     "data": {
      "text/plain": [
       "'structs_revisited.gv.pdf'"
      ]
     },
     "execution_count": 38,
     "metadata": {},
     "output_type": "execute_result"
    }
   ],
   "source": [
    "# structs_revisited.py - http://www.graphviz.org/pdf/dotguide.pdf Figure 12\n",
    "\n",
    "from graphviz import Digraph\n",
    "\n",
    "s = Digraph('structs', filename='structs_revisited.gv',\n",
    "            node_attr={'shape': 'record'})\n",
    "\n",
    "s.node('struct1', '<f0> left|<f1> middle|<f2> right')\n",
    "s.node('struct2', '<f0> one|<f1> two')\n",
    "s.node('struct3', r'hello\\nworld |{ b |{c|<here> d|e}| f}| g | h')\n",
    "\n",
    "s.edges([('struct1:f1', 'struct2:f0'), ('struct1:f2', 'struct3:here')])\n",
    "\n",
    "s.view()"
   ]
  },
  {
   "cell_type": "markdown",
   "metadata": {},
   "source": [
    "### nohtml格式"
   ]
  },
  {
   "cell_type": "code",
   "execution_count": 34,
   "metadata": {},
   "outputs": [
    {
     "data": {
      "text/plain": [
       "'btree.gv.pdf'"
      ]
     },
     "execution_count": 34,
     "metadata": {},
     "output_type": "execute_result"
    }
   ],
   "source": [
    "# btree.py - http://www.graphviz.org/pdf/dotguide.pdf Figure 13\n",
    "\n",
    "from graphviz import Digraph, nohtml\n",
    "\n",
    "g = Digraph('g', filename='btree.gv',\n",
    "            node_attr={'shape': 'record', 'height': '.1'})\n",
    "\n",
    "g.node('node0', nohtml('<f0> |<f1> G|<f2>'))\n",
    "g.node('node1', nohtml('<f0> |<f1> E|<f2>'))\n",
    "g.node('node2', nohtml('<f0> |<f1> B|<f2>'))\n",
    "g.node('node3', nohtml('<f0> |<f1> F|<f2>'))\n",
    "g.node('node4', nohtml('<f0> |<f1> R|<f2>'))\n",
    "g.node('node5', nohtml('<f0> |<f1> H|<f2>'))\n",
    "g.node('node6', nohtml('<f0> |<f1> Y|<f2>'))\n",
    "g.node('node7', nohtml('<f0> |<f1> A|<f2>'))\n",
    "g.node('node8', nohtml('<f0> |<f1> C|<f2>'))\n",
    "\n",
    "g.edge('node0:f2', 'node4:f1')\n",
    "g.edge('node0:f0', 'node1:f1')\n",
    "g.edge('node1:f0', 'node2:f1')\n",
    "g.edge('node1:f2', 'node3:f1')\n",
    "g.edge('node2:f2', 'node8:f1')\n",
    "g.edge('node2:f0', 'node7:f1')\n",
    "g.edge('node4:f2', 'node6:f1')\n",
    "g.edge('node4:f0', 'node5:f1')\n",
    "\n",
    "g.view()"
   ]
  },
  {
   "cell_type": "code",
   "execution_count": 44,
   "metadata": {},
   "outputs": [
    {
     "data": {
      "text/plain": [
       "'record.gv.pdf'"
      ]
     },
     "execution_count": 44,
     "metadata": {},
     "output_type": "execute_result"
    }
   ],
   "source": [
    "from graphviz import Digraph, nohtml\n",
    "\n",
    "rd = Digraph(comment=\"test record using python graphviz.\", name=\"record\")\n",
    "rd.node_attr={\"shape\":\"record\"}\n",
    "\n",
    "rd.node('node0', '<f0> a|<f1> b|<f2> c') # 注意：标签与内容间需要加空格\n",
    "rd.node('node1', '<f0> d|<f1> e|<f2> f')\n",
    "\n",
    "\n",
    "rd.edge('node0:f0', 'node1:f1')\n",
    "\n",
    "rd.edges([('node0:f0','node1:f1'),('node1:f0','node0:f0')])\n",
    "\n",
    "rd.view()"
   ]
  },
  {
   "cell_type": "code",
   "execution_count": 50,
   "metadata": {},
   "outputs": [],
   "source": [
    "def record_node(dict_name):\n",
    "    for i in dict_name:\n",
    "        for j in i:\n",
    "            print(j.value)\n",
    "            print(j.key)"
   ]
  },
  {
   "cell_type": "code",
   "execution_count": 51,
   "metadata": {},
   "outputs": [
    {
     "ename": "AttributeError",
     "evalue": "'str' object has no attribute 'value'",
     "output_type": "error",
     "traceback": [
      "\u001b[0;31m---------------------------------------------------------------------------\u001b[0m",
      "\u001b[0;31mAttributeError\u001b[0m                            Traceback (most recent call last)",
      "\u001b[0;32m<ipython-input-51-778c95b497f0>\u001b[0m in \u001b[0;36m<module>\u001b[0;34m\u001b[0m\n\u001b[0;32m----> 1\u001b[0;31m \u001b[0mrecord_node\u001b[0m\u001b[0;34m(\u001b[0m\u001b[0;34m{\u001b[0m\u001b[0;34m'node0'\u001b[0m\u001b[0;34m:\u001b[0m\u001b[0;34m{\u001b[0m\u001b[0;34m'f0'\u001b[0m\u001b[0;34m:\u001b[0m\u001b[0;34m\"a\"\u001b[0m\u001b[0;34m,\u001b[0m\u001b[0;34m'f1'\u001b[0m\u001b[0;34m:\u001b[0m\u001b[0;34m\"b\"\u001b[0m\u001b[0;34m}\u001b[0m\u001b[0;34m,\u001b[0m \u001b[0;34m'node1'\u001b[0m\u001b[0;34m:\u001b[0m\u001b[0;34m{\u001b[0m\u001b[0;34m'f0'\u001b[0m\u001b[0;34m:\u001b[0m\u001b[0;34m\"c\"\u001b[0m\u001b[0;34m,\u001b[0m\u001b[0;34m'f1'\u001b[0m\u001b[0;34m:\u001b[0m\u001b[0;34m\"d\"\u001b[0m\u001b[0;34m}\u001b[0m\u001b[0;34m}\u001b[0m\u001b[0;34m)\u001b[0m\u001b[0;34m\u001b[0m\u001b[0;34m\u001b[0m\u001b[0m\n\u001b[0m",
      "\u001b[0;32m<ipython-input-50-0af6c777e325>\u001b[0m in \u001b[0;36mrecord_node\u001b[0;34m(dict_name)\u001b[0m\n\u001b[1;32m      2\u001b[0m     \u001b[0;32mfor\u001b[0m \u001b[0mi\u001b[0m \u001b[0;32min\u001b[0m \u001b[0mdict_name\u001b[0m\u001b[0;34m:\u001b[0m\u001b[0;34m\u001b[0m\u001b[0;34m\u001b[0m\u001b[0m\n\u001b[1;32m      3\u001b[0m         \u001b[0;32mfor\u001b[0m \u001b[0mj\u001b[0m \u001b[0;32min\u001b[0m \u001b[0mi\u001b[0m\u001b[0;34m:\u001b[0m\u001b[0;34m\u001b[0m\u001b[0;34m\u001b[0m\u001b[0m\n\u001b[0;32m----> 4\u001b[0;31m             \u001b[0mprint\u001b[0m\u001b[0;34m(\u001b[0m\u001b[0mj\u001b[0m\u001b[0;34m.\u001b[0m\u001b[0mvalue\u001b[0m\u001b[0;34m)\u001b[0m\u001b[0;34m\u001b[0m\u001b[0;34m\u001b[0m\u001b[0m\n\u001b[0m\u001b[1;32m      5\u001b[0m             \u001b[0mprint\u001b[0m\u001b[0;34m(\u001b[0m\u001b[0mj\u001b[0m\u001b[0;34m.\u001b[0m\u001b[0mkey\u001b[0m\u001b[0;34m)\u001b[0m\u001b[0;34m\u001b[0m\u001b[0;34m\u001b[0m\u001b[0m\n",
      "\u001b[0;31mAttributeError\u001b[0m: 'str' object has no attribute 'value'"
     ]
    }
   ],
   "source": [
    "record_node({'node0':{'f0':\"a\",'f1':\"b\"}, 'node1':{'f0':\"c\",'f1':\"d\"}})"
   ]
  },
  {
   "cell_type": "code",
   "execution_count": null,
   "metadata": {},
   "outputs": [],
   "source": []
  }
 ],
 "metadata": {
  "kernelspec": {
   "display_name": "mac",
   "language": "python",
   "name": "mac"
  },
  "language_info": {
   "codemirror_mode": {
    "name": "ipython",
    "version": 3
   },
   "file_extension": ".py",
   "mimetype": "text/x-python",
   "name": "python",
   "nbconvert_exporter": "python",
   "pygments_lexer": "ipython3",
   "version": "3.7.3"
  }
 },
 "nbformat": 4,
 "nbformat_minor": 2
}
