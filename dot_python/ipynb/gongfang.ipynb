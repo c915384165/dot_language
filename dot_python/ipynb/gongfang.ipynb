{
 "cells": [
  {
   "cell_type": "code",
   "execution_count": 1,
   "metadata": {},
   "outputs": [],
   "source": [
    "from graphviz import Digraph # 导入 graphviz模块"
   ]
  },
  {
   "cell_type": "code",
   "execution_count": 2,
   "metadata": {},
   "outputs": [],
   "source": [
    "import csv # 导入 csv 模块"
   ]
  },
  {
   "cell_type": "code",
   "execution_count": 3,
   "metadata": {},
   "outputs": [],
   "source": [
    "# 自定义函数：\n",
    "# 函数名：csv_interface;\n",
    "# 功能：参数（文件名）\n",
    "# 读取一个文件，返回一个列表。\n",
    "# 每行为一个子列表\n",
    "# \n",
    "def csv_interface(filename):\n",
    "    ls = []\n",
    "    with open(filename,'r', newline='') as fo:\n",
    "        reader = csv.reader(fo, dialect='excel', delimiter=',')\n",
    "        for row in reader:\n",
    "            ls.append(row)\n",
    "    return ls"
   ]
  },
  {
   "cell_type": "code",
   "execution_count": 5,
   "metadata": {},
   "outputs": [],
   "source": [
    "# 数据文件，csv格式， 文件名 input_data\n",
    "input_data = csv_interface(\"gongfang.csv\")"
   ]
  },
  {
   "cell_type": "code",
   "execution_count": 7,
   "metadata": {},
   "outputs": [],
   "source": [
    "# 过滤列表，选取第2至第63行，注意：[63]实际上为第64行，切片\n",
    "input_data_a = input_data[1:63]"
   ]
  },
  {
   "cell_type": "code",
   "execution_count": 22,
   "metadata": {},
   "outputs": [
    {
     "name": "stdout",
     "output_type": "stream",
     "text": [
      "['牛奶', '生菜']\n",
      "['奶油', '牛奶']\n",
      "['苹果醋', '苹果']\n",
      "['鸡蛋', '小麦']\n",
      "['番茄酱', '番茄']\n",
      "['橙汁', '橙子']\n",
      "['豆腐', '黄豆']\n",
      "['鸡蛋灌饼', '鸡蛋']\n",
      "['麦片', '玉米']\n",
      "['白砂糖', '甘蔗']\n",
      "['面粉', '小麦']\n",
      "['猪肉', '红薯']\n",
      "['香肠', '猪肉']\n",
      "['玫瑰精油', '玫瑰']\n",
      "['橄榄油', '橄榄']\n",
      "['蜂蜜', '向日葵']\n",
      "['牛肉', '玉米']\n",
      "['羊毛', '黄豆']\n",
      "['毛线', '羊毛']\n",
      "['葡萄酒', '葡萄']\n",
      "['皮包', '皮草']\n",
      "['沙拉油', '玉米']\n",
      "['肉脯', '牛肉']\n",
      "['鹿茸', '芦荟']\n",
      "['木材', '红松木']\n",
      "['米', '水稻']\n",
      "['鸡肉', '小麦']\n",
      "['山羊奶', '胡萝卜']\n",
      "['奶酪', '山羊奶']\n"
     ]
    }
   ],
   "source": [
    "# 截取第1到第5列，并去除空白项，检查生成的列表\n",
    "first_line_ls = []\n",
    "for i in input_data_a:\n",
    "    i = [a for a in i[1:5] if a != '']\n",
    "#     print(i)\n",
    "    first_line_ls.append(i)\n",
    "# print(first_line_ls)\n",
    "for i in first_line_ls:\n",
    "    if len(i) == 2:\n",
    "        print(i)"
   ]
  },
  {
   "cell_type": "code",
   "execution_count": 9,
   "metadata": {},
   "outputs": [],
   "source": [
    "# 开始绘图，实例化 Digraph对象，名字为 gra_gongfang\n",
    "gra_gongfang = Digraph(\"gra_gongfang\")\n",
    "# 图布局为LR方向，左右布局\n",
    "gra_gongfang.attr(rankdir='LR')"
   ]
  },
  {
   "cell_type": "code",
   "execution_count": 10,
   "metadata": {},
   "outputs": [],
   "source": [
    "def add_tag_si (s,i=''):\n",
    "    return('<'+s+str(i)+'>')"
   ]
  },
  {
   "cell_type": "code",
   "execution_count": 11,
   "metadata": {},
   "outputs": [],
   "source": [
    "def add_tag_for_list(l):\n",
    "    length = len(l)\n",
    "    ls=[]\n",
    "    for i in range(length):\n",
    "        if l[i] != '':\n",
    "            ls.append(add_tag_si('',i)+' '+str(l[i]))\n",
    "    return('|'.join(ls))"
   ]
  },
  {
   "cell_type": "code",
   "execution_count": 13,
   "metadata": {},
   "outputs": [],
   "source": [
    "def add_record_node_from_l (graph_name, node_name, l):\n",
    "    my_source = graph_name+'.'+'node('+'\\''+node_name+'\\''+',' +'\\''+add_tag_for_list(l)+'\\''+', shape=\"record\")'\n",
    "#     print(my_source)\n",
    "    exec(my_source)"
   ]
  },
  {
   "cell_type": "code",
   "execution_count": 14,
   "metadata": {},
   "outputs": [],
   "source": [
    "add_record_node_from_l ('gra_gongfang', '牛奶',['奶牛舍', '牛奶', '生菜', '', '', '30s', '1', '1', '', '', '', '', ''])"
   ]
  },
  {
   "cell_type": "code",
   "execution_count": 15,
   "metadata": {},
   "outputs": [],
   "source": [
    "def add_edge_from_l (graph_name, l):\n",
    "    for i in l[1:]:\n",
    "        my_source = graph_name+'.'+'edge(' + \"'\" + i + \"'\" + \",\"+ \"'\" + l[0] + \"'\" + ')'\n",
    "#         print(my_source)\n",
    "        exec(my_source)"
   ]
  },
  {
   "cell_type": "code",
   "execution_count": null,
   "metadata": {},
   "outputs": [],
   "source": [
    "def rank_same_list(main_graph_name):\n",
    "    with main_graph_name.sub_graph_name"
   ]
  },
  {
   "cell_type": "code",
   "execution_count": 16,
   "metadata": {},
   "outputs": [],
   "source": [
    "add_edge_from_l ('gra_gongfang', ['奶牛舍', '牛奶', '生菜'])"
   ]
  },
  {
   "cell_type": "code",
   "execution_count": 17,
   "metadata": {},
   "outputs": [],
   "source": [
    "for i in input_data_a:\n",
    "    ls = []\n",
    "    ls.append(i[1])\n",
    "    add_record_node_from_l('gra_gongfang',i[1],ls+i[5:8])"
   ]
  },
  {
   "cell_type": "code",
   "execution_count": 18,
   "metadata": {},
   "outputs": [],
   "source": [
    "for i in input_data_a:\n",
    "    i = [a for a in i[1:5] if a != '']\n",
    "    add_edge_from_l('gra_gongfang',i)"
   ]
  },
  {
   "cell_type": "code",
   "execution_count": 19,
   "metadata": {},
   "outputs": [
    {
     "data": {
      "text/plain": [
       "'test-table.gv.pdf'"
      ]
     },
     "execution_count": 19,
     "metadata": {},
     "output_type": "execute_result"
    }
   ],
   "source": [
    "gra_gongfang.render('test-table.gv', view=True)"
   ]
  },
  {
   "cell_type": "code",
   "execution_count": null,
   "metadata": {},
   "outputs": [],
   "source": [
    "render('test-table.gv', view=True)"
   ]
  },
  {
   "cell_type": "markdown",
   "metadata": {},
   "source": []
  },
  {
   "cell_type": "code",
   "execution_count": 2,
   "metadata": {},
   "outputs": [],
   "source": [
    "from graphviz import Digraph"
   ]
  },
  {
   "cell_type": "code",
   "execution_count": 83,
   "metadata": {},
   "outputs": [],
   "source": [
    "dot = Digraph('dot',\"about\", \"testout\")\n",
    "dot.node_attr={'shape':'ellipse'}\n",
    "dot.node('A', 'King Arthur')\n",
    "dot.node('B', 'Sir Bedevere the Wise')\n",
    "dot.node('L', 'Sir Lancelot the Brave')\n",
    "\n",
    "dot.edges(['AB', 'AL'])\n",
    "dot.edge('B', 'L', constraint='False')\n"
   ]
  },
  {
   "cell_type": "code",
   "execution_count": 171,
   "metadata": {},
   "outputs": [
    {
     "name": "stdout",
     "output_type": "stream",
     "text": [
      "<?xml version=\"1.0\" encoding=\"UTF-8\" standalone=\"no\"?>\n",
      "<!DOCTYPE svg PUBLIC \"-//W3C//DTD SVG 1.1//EN\"\n",
      " \"http://www.w3.org/Graphics/SVG/1.1/DTD/svg11.dtd\">\n",
      "<!-- Generated by graphviz version 2.40.1 (20161225.0304)\n",
      " -->\n",
      "<!-- Title: dot Pages: 1 -->\n",
      "<svg width=\"396pt\" height=\"116pt\"\n",
      " viewBox=\"0.00 0.00 396.23 116.00\" xmlns=\"http://www.w3.org/2000/svg\" xmlns:xlink=\"http://www.w3.org/1999/xlink\">\n",
      "<g id=\"graph0\" class=\"graph\" transform=\"scale(1 1) rotate(0) translate(4 112)\">\n",
      "<title>dot</title>\n",
      "<polygon fill=\"#ffffff\" stroke=\"transparent\" points=\"-4,4 -4,-112 392.2336,-112 392.2336,4 -4,4\"/>\n",
      "<!-- AA -->\n",
      "<g id=\"node1\" class=\"node\">\n",
      "<title>AA</title>\n",
      "<ellipse fill=\"none\" stroke=\"#000000\" cx=\"193.2918\" cy=\"-90\" rx=\"55.4913\" ry=\"18\"/>\n",
      "<text text-anchor=\"middle\" x=\"193.2918\" y=\"-86.3\" font-family=\"Times,serif\" font-size=\"14.00\" fill=\"#000000\">King Arthur</text>\n",
      "</g>\n",
      "<!-- BB -->\n",
      "<g id=\"node2\" class=\"node\">\n",
      "<title>BB</title>\n",
      "<ellipse fill=\"none\" stroke=\"#000000\" cx=\"92.2918\" cy=\"-18\" rx=\"92.0841\" ry=\"18\"/>\n",
      "<text text-anchor=\"middle\" x=\"92.2918\" y=\"-14.3\" font-family=\"Times,serif\" font-size=\"14.00\" fill=\"#000000\">Sir Bedevere the Wise</text>\n",
      "</g>\n",
      "<!-- AA&#45;&gt;BB -->\n",
      "<g id=\"edge1\" class=\"edge\">\n",
      "<title>AA&#45;&gt;BB</title>\n",
      "<path fill=\"none\" stroke=\"#000000\" d=\"M170.1204,-73.4817C156.7808,-63.9723 139.8006,-51.8677 125.1068,-41.3928\"/>\n",
      "<polygon fill=\"#000000\" stroke=\"#000000\" points=\"126.9387,-38.4005 116.7642,-35.4457 122.8754,-44.1005 126.9387,-38.4005\"/>\n",
      "</g>\n",
      "<!-- LL -->\n",
      "<g id=\"node3\" class=\"node\">\n",
      "<title>LL</title>\n",
      "<ellipse fill=\"none\" stroke=\"#000000\" cx=\"295.2918\" cy=\"-18\" rx=\"92.8835\" ry=\"18\"/>\n",
      "<text text-anchor=\"middle\" x=\"295.2918\" y=\"-14.3\" font-family=\"Times,serif\" font-size=\"14.00\" fill=\"#000000\">Sir Lancelot the Brave</text>\n",
      "</g>\n",
      "<!-- AA&#45;&gt;LL -->\n",
      "<g id=\"edge2\" class=\"edge\">\n",
      "<title>AA&#45;&gt;LL</title>\n",
      "<path fill=\"none\" stroke=\"#000000\" d=\"M216.6927,-73.4817C230.1643,-63.9723 247.3126,-51.8677 262.152,-41.3928\"/>\n",
      "<polygon fill=\"#000000\" stroke=\"#000000\" points=\"264.4258,-44.072 270.5771,-35.4457 260.389,-38.3532 264.4258,-44.072\"/>\n",
      "</g>\n",
      "<!-- BB&#45;&gt;LL -->\n",
      "<g id=\"edge3\" class=\"edge\">\n",
      "<title>BB&#45;&gt;LL</title>\n",
      "<path fill=\"none\" stroke=\"#000000\" d=\"M184.6727,-18C187.0132,-18 189.3538,-18 191.6944,-18\"/>\n",
      "<polygon fill=\"#000000\" stroke=\"#000000\" points=\"191.9569,-21.5001 201.9569,-18 191.9569,-14.5001 191.9569,-21.5001\"/>\n",
      "</g>\n",
      "</g>\n",
      "</svg>\n",
      "\n"
     ]
    }
   ],
   "source": [
    "dot = Digraph('dot',\"about\", \"testout\",format='svg')\n",
    "dot.node('AA', 'King Arthur')\n",
    "dot.node('BB', 'Sir Bedevere the Wise')\n",
    "dot.node('LL', 'Sir Lancelot the Brave')\n",
    "\n",
    "dot.edges([('AA', 'BB'), ('AA','LL')])\n",
    "dot.edge('BB', 'LL', constraint='False')\n",
    "\n",
    "print(dot.pipe().decode('utf-8'))"
   ]
  },
  {
   "cell_type": "code",
   "execution_count": 84,
   "metadata": {},
   "outputs": [
    {
     "name": "stdout",
     "output_type": "stream",
     "text": [
      "// about\n",
      "digraph dot {\n",
      "\tnode [shape=ellipse]\n",
      "\tA [label=\"King Arthur\"]\n",
      "\tB [label=\"Sir Bedevere the Wise\"]\n",
      "\tL [label=\"Sir Lancelot the Brave\"]\n",
      "\tA -> B\n",
      "\tA -> L\n",
      "\tB -> L [constraint=False]\n",
      "}\n"
     ]
    }
   ],
   "source": [
    "print(dot.source)"
   ]
  },
  {
   "cell_type": "code",
   "execution_count": 85,
   "metadata": {},
   "outputs": [
    {
     "data": {
      "image/svg+xml": [
       "<?xml version=\"1.0\" encoding=\"UTF-8\" standalone=\"no\"?>\n",
       "<!DOCTYPE svg PUBLIC \"-//W3C//DTD SVG 1.1//EN\"\n",
       " \"http://www.w3.org/Graphics/SVG/1.1/DTD/svg11.dtd\">\n",
       "<!-- Generated by graphviz version 2.40.1 (20161225.0304)\n",
       " -->\n",
       "<!-- Title: dot Pages: 1 -->\n",
       "<svg width=\"396pt\" height=\"116pt\"\n",
       " viewBox=\"0.00 0.00 396.23 116.00\" xmlns=\"http://www.w3.org/2000/svg\" xmlns:xlink=\"http://www.w3.org/1999/xlink\">\n",
       "<g id=\"graph0\" class=\"graph\" transform=\"scale(1 1) rotate(0) translate(4 112)\">\n",
       "<title>dot</title>\n",
       "<polygon fill=\"#ffffff\" stroke=\"transparent\" points=\"-4,4 -4,-112 392.2336,-112 392.2336,4 -4,4\"/>\n",
       "<!-- A -->\n",
       "<g id=\"node1\" class=\"node\">\n",
       "<title>A</title>\n",
       "<ellipse fill=\"none\" stroke=\"#000000\" cx=\"193.2918\" cy=\"-90\" rx=\"55.4913\" ry=\"18\"/>\n",
       "<text text-anchor=\"middle\" x=\"193.2918\" y=\"-86.3\" font-family=\"Times,serif\" font-size=\"14.00\" fill=\"#000000\">King Arthur</text>\n",
       "</g>\n",
       "<!-- B -->\n",
       "<g id=\"node2\" class=\"node\">\n",
       "<title>B</title>\n",
       "<ellipse fill=\"none\" stroke=\"#000000\" cx=\"92.2918\" cy=\"-18\" rx=\"92.0841\" ry=\"18\"/>\n",
       "<text text-anchor=\"middle\" x=\"92.2918\" y=\"-14.3\" font-family=\"Times,serif\" font-size=\"14.00\" fill=\"#000000\">Sir Bedevere the Wise</text>\n",
       "</g>\n",
       "<!-- A&#45;&gt;B -->\n",
       "<g id=\"edge1\" class=\"edge\">\n",
       "<title>A&#45;&gt;B</title>\n",
       "<path fill=\"none\" stroke=\"#000000\" d=\"M170.1204,-73.4817C156.7808,-63.9723 139.8006,-51.8677 125.1068,-41.3928\"/>\n",
       "<polygon fill=\"#000000\" stroke=\"#000000\" points=\"126.9387,-38.4005 116.7642,-35.4457 122.8754,-44.1005 126.9387,-38.4005\"/>\n",
       "</g>\n",
       "<!-- L -->\n",
       "<g id=\"node3\" class=\"node\">\n",
       "<title>L</title>\n",
       "<ellipse fill=\"none\" stroke=\"#000000\" cx=\"295.2918\" cy=\"-18\" rx=\"92.8835\" ry=\"18\"/>\n",
       "<text text-anchor=\"middle\" x=\"295.2918\" y=\"-14.3\" font-family=\"Times,serif\" font-size=\"14.00\" fill=\"#000000\">Sir Lancelot the Brave</text>\n",
       "</g>\n",
       "<!-- A&#45;&gt;L -->\n",
       "<g id=\"edge2\" class=\"edge\">\n",
       "<title>A&#45;&gt;L</title>\n",
       "<path fill=\"none\" stroke=\"#000000\" d=\"M216.6927,-73.4817C230.1643,-63.9723 247.3126,-51.8677 262.152,-41.3928\"/>\n",
       "<polygon fill=\"#000000\" stroke=\"#000000\" points=\"264.4258,-44.072 270.5771,-35.4457 260.389,-38.3532 264.4258,-44.072\"/>\n",
       "</g>\n",
       "<!-- B&#45;&gt;L -->\n",
       "<g id=\"edge3\" class=\"edge\">\n",
       "<title>B&#45;&gt;L</title>\n",
       "<path fill=\"none\" stroke=\"#000000\" d=\"M184.6727,-18C187.0132,-18 189.3538,-18 191.6944,-18\"/>\n",
       "<polygon fill=\"#000000\" stroke=\"#000000\" points=\"191.9569,-21.5001 201.9569,-18 191.9569,-14.5001 191.9569,-21.5001\"/>\n",
       "</g>\n",
       "</g>\n",
       "</svg>\n"
      ],
      "text/plain": [
       "<graphviz.dot.Digraph at 0x102edc828>"
      ]
     },
     "execution_count": 85,
     "metadata": {},
     "output_type": "execute_result"
    }
   ],
   "source": [
    "dot"
   ]
  },
  {
   "cell_type": "code",
   "execution_count": 38,
   "metadata": {},
   "outputs": [
    {
     "name": "stdout",
     "output_type": "stream",
     "text": [
      "test_graph_name\n",
      "comments_test\n",
      "filename_test\n",
      "test_graph_name\n",
      "\n",
      "\n"
     ]
    }
   ],
   "source": [
    "def testargs(name='', comment='', filename=''):\n",
    "#     print(type(args))\n",
    "#     print(args[1])\n",
    "    print(name)\n",
    "    print(comment)\n",
    "    print(filename)\n",
    "    \n",
    "\n",
    "位置参数+可选参数\n",
    "如果没有定义值，则返回默认值\n",
    "如果有定义，根据参数个数排序\n",
    "如果有定义名称，按名称传递\n",
    "    \n",
    "testargs('test_graph_name','comments_test', 'filename_test')\n",
    "testargs('test_graph_name',)"
   ]
  },
  {
   "cell_type": "code",
   "execution_count": 106,
   "metadata": {},
   "outputs": [
    {
     "data": {
      "image/svg+xml": [
       "<?xml version=\"1.0\" encoding=\"UTF-8\" standalone=\"no\"?>\n",
       "<!DOCTYPE svg PUBLIC \"-//W3C//DTD SVG 1.1//EN\"\n",
       " \"http://www.w3.org/Graphics/SVG/1.1/DTD/svg11.dtd\">\n",
       "<!-- Generated by graphviz version 2.40.1 (20161225.0304)\n",
       " -->\n",
       "<!-- Title: hello Pages: 1 -->\n",
       "<svg width=\"174pt\" height=\"44pt\"\n",
       " viewBox=\"0.00 0.00 173.99 44.00\" xmlns=\"http://www.w3.org/2000/svg\" xmlns:xlink=\"http://www.w3.org/1999/xlink\">\n",
       "<g id=\"graph0\" class=\"graph\" transform=\"scale(1 1) rotate(0) translate(4 40)\">\n",
       "<title>hello</title>\n",
       "<polygon fill=\"#ffffff\" stroke=\"transparent\" points=\"-4,4 -4,-40 169.9885,-40 169.9885,4 -4,4\"/>\n",
       "<!-- Hello -->\n",
       "<g id=\"node1\" class=\"node\">\n",
       "<title>Hello</title>\n",
       "<ellipse fill=\"none\" stroke=\"#000000\" cx=\"31.1972\" cy=\"-18\" rx=\"31.3957\" ry=\"18\"/>\n",
       "<text text-anchor=\"middle\" x=\"31.1972\" y=\"-14.3\" font-family=\"Times,serif\" font-size=\"14.00\" fill=\"#000000\">Hello</text>\n",
       "</g>\n",
       "<!-- World -->\n",
       "<g id=\"node2\" class=\"node\">\n",
       "<title>World</title>\n",
       "<ellipse fill=\"none\" stroke=\"#000000\" cx=\"132.1915\" cy=\"-18\" rx=\"33.5952\" ry=\"18\"/>\n",
       "<text text-anchor=\"middle\" x=\"132.1915\" y=\"-14.3\" font-family=\"Times,serif\" font-size=\"14.00\" fill=\"#000000\">World</text>\n",
       "</g>\n",
       "<!-- Hello&#45;&#45;World -->\n",
       "<g id=\"edge1\" class=\"edge\">\n",
       "<title>Hello&#45;&#45;World</title>\n",
       "<path fill=\"none\" stroke=\"#000000\" d=\"M62.5988,-18C73.9481,-18 86.8066,-18 98.3556,-18\"/>\n",
       "</g>\n",
       "</g>\n",
       "</svg>\n"
      ],
      "text/plain": [
       "<graphviz.dot.Graph at 0x102ec1780>"
      ]
     },
     "execution_count": 106,
     "metadata": {},
     "output_type": "execute_result"
    }
   ],
   "source": [
    "from graphviz import Graph\n",
    "h = Graph('hello', format='svg', graph_attr={'rankdir':'LR'}) # graph_attr['rankdir']='LR'\n",
    "h.edge('Hello', 'World')\n",
    "# h.attr(rankdir=\"LR\")\n",
    "h"
   ]
  },
  {
   "cell_type": "code",
   "execution_count": 107,
   "metadata": {},
   "outputs": [
    {
     "data": {
      "image/svg+xml": [
       "<?xml version=\"1.0\" encoding=\"UTF-8\" standalone=\"no\"?>\n",
       "<!DOCTYPE svg PUBLIC \"-//W3C//DTD SVG 1.1//EN\"\n",
       " \"http://www.w3.org/Graphics/SVG/1.1/DTD/svg11.dtd\">\n",
       "<!-- Generated by graphviz version 2.40.1 (20161225.0304)\n",
       " -->\n",
       "<!-- Title: hello Pages: 1 -->\n",
       "<svg width=\"174pt\" height=\"44pt\"\n",
       " viewBox=\"0.00 0.00 173.99 44.00\" xmlns=\"http://www.w3.org/2000/svg\" xmlns:xlink=\"http://www.w3.org/1999/xlink\">\n",
       "<g id=\"graph0\" class=\"graph\" transform=\"scale(1 1) rotate(0) translate(4 40)\">\n",
       "<title>hello</title>\n",
       "<polygon fill=\"#ffffff\" stroke=\"transparent\" points=\"-4,4 -4,-40 169.9885,-40 169.9885,4 -4,4\"/>\n",
       "<!-- Hello -->\n",
       "<g id=\"node1\" class=\"node\">\n",
       "<title>Hello</title>\n",
       "<ellipse fill=\"none\" stroke=\"#000000\" cx=\"31.1972\" cy=\"-18\" rx=\"31.3957\" ry=\"18\"/>\n",
       "<text text-anchor=\"middle\" x=\"31.1972\" y=\"-14.3\" font-family=\"Times,serif\" font-size=\"14.00\" fill=\"#000000\">Hello</text>\n",
       "</g>\n",
       "<!-- World -->\n",
       "<g id=\"node2\" class=\"node\">\n",
       "<title>World</title>\n",
       "<ellipse fill=\"none\" stroke=\"#000000\" cx=\"132.1915\" cy=\"-18\" rx=\"33.5952\" ry=\"18\"/>\n",
       "<text text-anchor=\"middle\" x=\"132.1915\" y=\"-14.3\" font-family=\"Times,serif\" font-size=\"14.00\" fill=\"#000000\">World</text>\n",
       "</g>\n",
       "<!-- Hello&#45;&#45;World -->\n",
       "<g id=\"edge1\" class=\"edge\">\n",
       "<title>Hello&#45;&#45;World</title>\n",
       "<path fill=\"none\" stroke=\"#000000\" d=\"M62.5988,-18C73.9481,-18 86.8066,-18 98.3556,-18\"/>\n",
       "</g>\n",
       "</g>\n",
       "</svg>\n"
      ],
      "text/plain": [
       "<graphviz.dot.Graph at 0x102ec1940>"
      ]
     },
     "execution_count": 107,
     "metadata": {},
     "output_type": "execute_result"
    }
   ],
   "source": [
    "from graphviz import Graph\n",
    "h = Graph('hello', format='svg')\n",
    "h.edge('Hello', 'World')\n",
    "h.attr(rankdir=\"LR\")\n",
    "h"
   ]
  },
  {
   "cell_type": "code",
   "execution_count": 116,
   "metadata": {},
   "outputs": [
    {
     "data": {
      "image/svg+xml": [
       "<?xml version=\"1.0\" encoding=\"UTF-8\" standalone=\"no\"?>\n",
       "<!DOCTYPE svg PUBLIC \"-//W3C//DTD SVG 1.1//EN\"\n",
       " \"http://www.w3.org/Graphics/SVG/1.1/DTD/svg11.dtd\">\n",
       "<!-- Generated by graphviz version 2.40.1 (20161225.0304)\n",
       " -->\n",
       "<!-- Title: hello Pages: 1 -->\n",
       "<svg width=\"174pt\" height=\"98pt\"\n",
       " viewBox=\"0.00 0.00 173.99 98.00\" xmlns=\"http://www.w3.org/2000/svg\" xmlns:xlink=\"http://www.w3.org/1999/xlink\">\n",
       "<g id=\"graph0\" class=\"graph\" transform=\"scale(1 1) rotate(0) translate(4 94)\">\n",
       "<title>hello</title>\n",
       "<polygon fill=\"#ffffff\" stroke=\"transparent\" points=\"-4,4 -4,-94 169.9885,-94 169.9885,4 -4,4\"/>\n",
       "<!-- new_node -->\n",
       "<g id=\"node1\" class=\"node\">\n",
       "<title>new_node</title>\n",
       "<ellipse fill=\"none\" stroke=\"#000000\" cx=\"31.1972\" cy=\"-18\" rx=\"27\" ry=\"18\"/>\n",
       "<text text-anchor=\"middle\" x=\"31.1972\" y=\"-14.3\" font-family=\"Times,serif\" font-size=\"14.00\" fill=\"#000000\">help</text>\n",
       "</g>\n",
       "<!-- Hello -->\n",
       "<g id=\"node2\" class=\"node\">\n",
       "<title>Hello</title>\n",
       "<ellipse fill=\"none\" stroke=\"#000000\" cx=\"31.1972\" cy=\"-72\" rx=\"31.3957\" ry=\"18\"/>\n",
       "<text text-anchor=\"middle\" x=\"31.1972\" y=\"-68.3\" font-family=\"Times,serif\" font-size=\"14.00\" fill=\"#000000\">Hello</text>\n",
       "</g>\n",
       "<!-- World -->\n",
       "<g id=\"node3\" class=\"node\">\n",
       "<title>World</title>\n",
       "<ellipse fill=\"none\" stroke=\"#000000\" cx=\"132.1915\" cy=\"-72\" rx=\"33.5952\" ry=\"18\"/>\n",
       "<text text-anchor=\"middle\" x=\"132.1915\" y=\"-68.3\" font-family=\"Times,serif\" font-size=\"14.00\" fill=\"#000000\">World</text>\n",
       "</g>\n",
       "<!-- Hello&#45;&#45;World -->\n",
       "<g id=\"edge1\" class=\"edge\">\n",
       "<title>Hello&#45;&#45;World</title>\n",
       "<path fill=\"none\" stroke=\"#000000\" d=\"M62.5988,-72C73.9481,-72 86.8066,-72 98.3556,-72\"/>\n",
       "</g>\n",
       "</g>\n",
       "</svg>\n"
      ],
      "text/plain": [
       "<graphviz.dot.Graph at 0x102edc6a0>"
      ]
     },
     "execution_count": 116,
     "metadata": {},
     "output_type": "execute_result"
    }
   ],
   "source": [
    "from graphviz import Graph\n",
    "h = Graph('hello', format='svg')\n",
    "h.node_attr['shape']='ellipse'\n",
    "h.node('new_node', 'help')\n",
    "h.edge('Hello', 'World')\n",
    "h.graph_attr.update(rankdir=\"LR\")\n",
    "# h.node_attr.update(shape=\"record\")\n",
    "h"
   ]
  },
  {
   "cell_type": "code",
   "execution_count": 110,
   "metadata": {},
   "outputs": [
    {
     "data": {
      "image/svg+xml": [
       "<?xml version=\"1.0\" encoding=\"UTF-8\" standalone=\"no\"?>\n",
       "<!DOCTYPE svg PUBLIC \"-//W3C//DTD SVG 1.1//EN\"\n",
       " \"http://www.w3.org/Graphics/SVG/1.1/DTD/svg11.dtd\">\n",
       "<!-- Generated by graphviz version 2.40.1 (20161225.0304)\n",
       " -->\n",
       "<!-- Title: hello Pages: 1 -->\n",
       "<svg width=\"174pt\" height=\"44pt\"\n",
       " viewBox=\"0.00 0.00 173.99 44.00\" xmlns=\"http://www.w3.org/2000/svg\" xmlns:xlink=\"http://www.w3.org/1999/xlink\">\n",
       "<g id=\"graph0\" class=\"graph\" transform=\"scale(1 1) rotate(0) translate(4 40)\">\n",
       "<title>hello</title>\n",
       "<polygon fill=\"#ffffff\" stroke=\"transparent\" points=\"-4,4 -4,-40 169.9885,-40 169.9885,4 -4,4\"/>\n",
       "<!-- Hello -->\n",
       "<g id=\"node1\" class=\"node\">\n",
       "<title>Hello</title>\n",
       "<ellipse fill=\"none\" stroke=\"#000000\" cx=\"31.1972\" cy=\"-18\" rx=\"31.3957\" ry=\"18\"/>\n",
       "<text text-anchor=\"middle\" x=\"31.1972\" y=\"-14.3\" font-family=\"Times,serif\" font-size=\"14.00\" fill=\"#000000\">Hello</text>\n",
       "</g>\n",
       "<!-- World -->\n",
       "<g id=\"node2\" class=\"node\">\n",
       "<title>World</title>\n",
       "<ellipse fill=\"none\" stroke=\"#000000\" cx=\"132.1915\" cy=\"-18\" rx=\"33.5952\" ry=\"18\"/>\n",
       "<text text-anchor=\"middle\" x=\"132.1915\" y=\"-14.3\" font-family=\"Times,serif\" font-size=\"14.00\" fill=\"#000000\">World</text>\n",
       "</g>\n",
       "<!-- Hello&#45;&#45;World -->\n",
       "<g id=\"edge1\" class=\"edge\">\n",
       "<title>Hello&#45;&#45;World</title>\n",
       "<path fill=\"none\" stroke=\"#000000\" d=\"M62.5988,-18C73.9481,-18 86.8066,-18 98.3556,-18\"/>\n",
       "</g>\n",
       "</g>\n",
       "</svg>\n"
      ],
      "text/plain": [
       "<graphviz.dot.Graph at 0x102f152b0>"
      ]
     },
     "execution_count": 110,
     "metadata": {},
     "output_type": "execute_result"
    }
   ],
   "source": [
    "from graphviz import Graph\n",
    "h = Graph('hello', format='svg')\n",
    "h.edge('Hello', 'World')\n",
    "h.graph_attr['rankdir']=\"LR\"\n",
    "h"
   ]
  },
  {
   "cell_type": "code",
   "execution_count": 146,
   "metadata": {},
   "outputs": [
    {
     "name": "stdout",
     "output_type": "stream",
     "text": [
      "graph hello {\n",
      "\tHello -- World\n",
      "\tnode [shape=record]\n",
      "\tnode [shape=ellipse]\n",
      "\tedge [constraint=False]\n",
      "\trankdir=LR\n",
      "\tgraph [rank=same]\n",
      "}\n"
     ]
    }
   ],
   "source": [
    "from graphviz import Graph\n",
    "h = Graph('hello', format='svg')\n",
    "h.edge('Hello', 'World')\n",
    "h.attr(\"node\",shape='record')\n",
    "h.attr(\"node\", shape=\"ellipse\")\n",
    "h.attr(\"edge\", constraint=\"False\")\n",
    "# h.attr(rank=\"same\",[\"a\", \"b\"])\n",
    "h.attr(rankdir='LR')\n",
    "h.attr(\"graph\",rank=\"same\")\n",
    "print(h.source)"
   ]
  },
  {
   "cell_type": "code",
   "execution_count": 165,
   "metadata": {},
   "outputs": [
    {
     "name": "stdout",
     "output_type": "stream",
     "text": [
      "digraph test_attr {\n",
      "\t{\n",
      "\t\trank=same\n",
      "\t\tA\n",
      "\t\tX\n",
      "\t}\n",
      "\tC\n",
      "\t{\n",
      "\t\trank=same\n",
      "\t\tnode [shape=box]\n",
      "\t\tB [color=red style=filled]\n",
      "\t\tD\n",
      "\t\tY\n",
      "\t}\n",
      "\tedge [constraint=False]\n",
      "\tA -> B\n",
      "\tA -> C\n",
      "\tC -> D\n",
      "\tX -> Y\n",
      "}\n"
     ]
    }
   ],
   "source": [
    "d = Digraph(\"test_attr\")\n",
    "\n",
    "with d.subgraph() as s:\n",
    "    s.attr(rank='same')\n",
    "#     s.attr(\"node\", shape='record')\n",
    "    s.node('A')\n",
    "    s.node('X')\n",
    "\n",
    "d.node('C')\n",
    "\n",
    "with d.subgraph() as s:\n",
    "    s.attr(rank='same')\n",
    "    s.attr(\"node\", shape=\"box\")\n",
    "    s.node('B', style='filled',color='red')\n",
    "    s.node('D')\n",
    "    s.node('Y')\n",
    "d.attr(\"edge\", constraint=\"False\")\n",
    "d.edges(['AB', 'AC', 'CD', 'XY'])\n",
    "print(d.source)"
   ]
  },
  {
   "cell_type": "code",
   "execution_count": 166,
   "metadata": {},
   "outputs": [
    {
     "data": {
      "image/svg+xml": [
       "<?xml version=\"1.0\" encoding=\"UTF-8\" standalone=\"no\"?>\n",
       "<!DOCTYPE svg PUBLIC \"-//W3C//DTD SVG 1.1//EN\"\n",
       " \"http://www.w3.org/Graphics/SVG/1.1/DTD/svg11.dtd\">\n",
       "<!-- Generated by graphviz version 2.40.1 (20161225.0304)\n",
       " -->\n",
       "<!-- Title: test_attr Pages: 1 -->\n",
       "<svg width=\"422pt\" height=\"76pt\"\n",
       " viewBox=\"0.00 0.00 422.00 75.90\" xmlns=\"http://www.w3.org/2000/svg\" xmlns:xlink=\"http://www.w3.org/1999/xlink\">\n",
       "<g id=\"graph0\" class=\"graph\" transform=\"scale(1 1) rotate(0) translate(4 71.9023)\">\n",
       "<title>test_attr</title>\n",
       "<polygon fill=\"#ffffff\" stroke=\"transparent\" points=\"-4,4 -4,-71.9023 418,-71.9023 418,4 -4,4\"/>\n",
       "<!-- A -->\n",
       "<g id=\"node1\" class=\"node\">\n",
       "<title>A</title>\n",
       "<ellipse fill=\"none\" stroke=\"#000000\" cx=\"27\" cy=\"-18\" rx=\"27\" ry=\"18\"/>\n",
       "<text text-anchor=\"middle\" x=\"27\" y=\"-14.3\" font-family=\"Times,serif\" font-size=\"14.00\" fill=\"#000000\">A</text>\n",
       "</g>\n",
       "<!-- C -->\n",
       "<g id=\"node3\" class=\"node\">\n",
       "<title>C</title>\n",
       "<ellipse fill=\"none\" stroke=\"#000000\" cx=\"99\" cy=\"-18\" rx=\"27\" ry=\"18\"/>\n",
       "<text text-anchor=\"middle\" x=\"99\" y=\"-14.3\" font-family=\"Times,serif\" font-size=\"14.00\" fill=\"#000000\">C</text>\n",
       "</g>\n",
       "<!-- A&#45;&gt;C -->\n",
       "<g id=\"edge2\" class=\"edge\">\n",
       "<title>A&#45;&gt;C</title>\n",
       "<path fill=\"none\" stroke=\"#000000\" d=\"M54,-18C56.6147,-18 59.2295,-18 61.8442,-18\"/>\n",
       "<polygon fill=\"#000000\" stroke=\"#000000\" points=\"61.9297,-21.5001 71.9297,-18 61.9297,-14.5001 61.9297,-21.5001\"/>\n",
       "</g>\n",
       "<!-- B -->\n",
       "<g id=\"node4\" class=\"node\">\n",
       "<title>B</title>\n",
       "<polygon fill=\"#ff0000\" stroke=\"#ff0000\" points=\"270,-36 216,-36 216,0 270,0 270,-36\"/>\n",
       "<text text-anchor=\"middle\" x=\"243\" y=\"-14.3\" font-family=\"Times,serif\" font-size=\"14.00\" fill=\"#000000\">B</text>\n",
       "</g>\n",
       "<!-- A&#45;&gt;B -->\n",
       "<g id=\"edge1\" class=\"edge\">\n",
       "<title>A&#45;&gt;B</title>\n",
       "<path fill=\"none\" stroke=\"#000000\" d=\"M41.217,-33.5681C49.3696,-41.3189 60.2933,-49.8935 72,-54 124.8432,-72.5364 145.1568,-72.5364 198,-54 205.1397,-51.4955 211.9881,-47.3291 218.0943,-42.7013\"/>\n",
       "<polygon fill=\"#000000\" stroke=\"#000000\" points=\"220.4521,-45.293 225.9185,-36.2173 215.9855,-39.9032 220.4521,-45.293\"/>\n",
       "</g>\n",
       "<!-- X -->\n",
       "<g id=\"node2\" class=\"node\">\n",
       "<title>X</title>\n",
       "<ellipse fill=\"none\" stroke=\"#000000\" cx=\"315\" cy=\"-18\" rx=\"27\" ry=\"18\"/>\n",
       "<text text-anchor=\"middle\" x=\"315\" y=\"-14.3\" font-family=\"Times,serif\" font-size=\"14.00\" fill=\"#000000\">X</text>\n",
       "</g>\n",
       "<!-- Y -->\n",
       "<g id=\"node6\" class=\"node\">\n",
       "<title>Y</title>\n",
       "<polygon fill=\"none\" stroke=\"#000000\" points=\"414,-36 360,-36 360,0 414,0 414,-36\"/>\n",
       "<text text-anchor=\"middle\" x=\"387\" y=\"-14.3\" font-family=\"Times,serif\" font-size=\"14.00\" fill=\"#000000\">Y</text>\n",
       "</g>\n",
       "<!-- X&#45;&gt;Y -->\n",
       "<g id=\"edge4\" class=\"edge\">\n",
       "<title>X&#45;&gt;Y</title>\n",
       "<path fill=\"none\" stroke=\"#000000\" d=\"M342,-18C344.6147,-18 347.2295,-18 349.8442,-18\"/>\n",
       "<polygon fill=\"#000000\" stroke=\"#000000\" points=\"349.9297,-21.5001 359.9297,-18 349.9297,-14.5001 349.9297,-21.5001\"/>\n",
       "</g>\n",
       "<!-- D -->\n",
       "<g id=\"node5\" class=\"node\">\n",
       "<title>D</title>\n",
       "<polygon fill=\"none\" stroke=\"#000000\" points=\"198,-36 144,-36 144,0 198,0 198,-36\"/>\n",
       "<text text-anchor=\"middle\" x=\"171\" y=\"-14.3\" font-family=\"Times,serif\" font-size=\"14.00\" fill=\"#000000\">D</text>\n",
       "</g>\n",
       "<!-- C&#45;&gt;D -->\n",
       "<g id=\"edge3\" class=\"edge\">\n",
       "<title>C&#45;&gt;D</title>\n",
       "<path fill=\"none\" stroke=\"#000000\" d=\"M126,-18C128.6147,-18 131.2295,-18 133.8442,-18\"/>\n",
       "<polygon fill=\"#000000\" stroke=\"#000000\" points=\"133.9297,-21.5001 143.9297,-18 133.9297,-14.5001 133.9297,-21.5001\"/>\n",
       "</g>\n",
       "</g>\n",
       "</svg>\n"
      ],
      "text/plain": [
       "<graphviz.dot.Digraph at 0x102edcef0>"
      ]
     },
     "execution_count": 166,
     "metadata": {},
     "output_type": "execute_result"
    }
   ],
   "source": [
    "d"
   ]
  },
  {
   "cell_type": "code",
   "execution_count": null,
   "metadata": {},
   "outputs": [],
   "source": []
  }
 ],
 "metadata": {
  "kernelspec": {
   "display_name": "mac",
   "language": "python",
   "name": "mac"
  },
  "language_info": {
   "codemirror_mode": {
    "name": "ipython",
    "version": 3
   },
   "file_extension": ".py",
   "mimetype": "text/x-python",
   "name": "python",
   "nbconvert_exporter": "python",
   "pygments_lexer": "ipython3",
   "version": "3.7.3"
  }
 },
 "nbformat": 4,
 "nbformat_minor": 2
}
