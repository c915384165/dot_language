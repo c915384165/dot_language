{
 "cells": [
  {
   "cell_type": "code",
   "execution_count": 1,
   "metadata": {},
   "outputs": [],
   "source": [
    "from graphviz import Digraph"
   ]
  },
  {
   "cell_type": "code",
   "execution_count": 55,
   "metadata": {},
   "outputs": [
    {
     "name": "stdout",
     "output_type": "stream",
     "text": [
      "// The Test Table\n",
      "digraph {\n",
      "\tA [label=\"Dot A\"]\n",
      "\tB [label=\"Dot B\"]\n",
      "\tC [label=\"<f0>Dot C|<f1>|\" color=red rankdir=\"\" shape=record]\n",
      "\tD [label=\"<f2>Dot C|<f3>|\" color=\"\" rankdir=\"\" shape=record]\n",
      "\t\"管理分组\" [label=\"<f2>如何管理分组|创建分组|列出组成员｜管理分组\" color=\"\" rankdir=\"\" shape=record]\n",
      "\tA -> B\n",
      "\tA -> C\n",
      "\tA -> B\n",
      "\tB -> C [label=test]\n",
      "}\n"
     ]
    },
    {
     "data": {
      "text/plain": [
       "'test-table.gv.svg'"
      ]
     },
     "execution_count": 55,
     "metadata": {},
     "output_type": "execute_result"
    }
   ],
   "source": [
    "dot = Digraph(comment='The Test Table',format='svg')\n",
    "# 添加圆点A,A的标签是Dot A\n",
    "dot.node('A', 'Dot A')\n",
    "# 添加圆点 B, B的标签是Dot B\n",
    "dot.node('B', 'Dot B')\n",
    "# dot.view()\n",
    "# 添加圆点 C, C的标签是Dot C\n",
    "dot.node(name='C', label= '<f0>Dot C|<f1>|',color='red',shape=\"record\",rankdir=\"\")\n",
    "# dot.view()\n",
    "dot.node(name='D', label= '<f2>Dot C|<f3>|',color='',shape=\"record\",rankdir=\"\")\n",
    "dot.node(name='管理分组',label= '<f2>如何管理分组|创建分组|列出组成员｜管理分组',color='',shape=\"record\",rankdir=\"\")\n",
    "# 创建一堆边，即连接AB的两条边，连接AC的一条边。\n",
    "dot.edges(['AB', 'AC', 'AB'])\n",
    "# dot.view()\n",
    "# 在创建两圆点之间创建一条边\n",
    "dot.edge('B', 'C', 'test')\n",
    "# dot.view()\n",
    "\n",
    "# 获取DOT source源码的字符串形式\n",
    "print(dot.source)\n",
    "# dot.view()\n",
    "dot.render('test-table.gv', view=True)"
   ]
  },
  {
   "cell_type": "code",
   "execution_count": 6,
   "metadata": {},
   "outputs": [
    {
     "name": "stdout",
     "output_type": "stream",
     "text": [
      "Digraph.gv         test-table.gv      未命名.ipynb\r\n",
      "Digraph.gv.pdf     test-table.gv.pdf  未命名1.ipynb\r\n",
      "dottest.py         \u001b[1m\u001b[36mvenv\u001b[m\u001b[m/              未命名2.ipynb\r\n"
     ]
    }
   ],
   "source": [
    "ls"
   ]
  },
  {
   "cell_type": "code",
   "execution_count": 24,
   "metadata": {},
   "outputs": [],
   "source": [
    "from graphviz import Digraph"
   ]
  },
  {
   "cell_type": "markdown",
   "metadata": {},
   "source": [
    "新建图"
   ]
  },
  {
   "cell_type": "code",
   "execution_count": 45,
   "metadata": {},
   "outputs": [],
   "source": [
    "dot = Digraph(name='dot_test',comment='The Round Table')"
   ]
  },
  {
   "cell_type": "raw",
   "metadata": {},
   "source": [
    "添加节点和边 "
   ]
  },
  {
   "cell_type": "code",
   "execution_count": 47,
   "metadata": {},
   "outputs": [],
   "source": [
    "dot.attr(rankdir='LR')"
   ]
  },
  {
   "cell_type": "code",
   "execution_count": 48,
   "metadata": {},
   "outputs": [],
   "source": [
    "dot.node('A', 'King Arthur')\n",
    "\n",
    "dot.node('B', 'Sir Bedevere the Wise')\n",
    "\n",
    "dot.node('L', 'Sir Lancelot the Brave')\n",
    "\n",
    "dot.edges(['AB', 'AL'])\n",
    "\n",
    "dot.edge('B', 'L', constraint='false')"
   ]
  },
  {
   "cell_type": "code",
   "execution_count": 49,
   "metadata": {},
   "outputs": [],
   "source": [
    "dot.node(name='C', label='test label attr')"
   ]
  },
  {
   "cell_type": "code",
   "execution_count": 50,
   "metadata": {},
   "outputs": [
    {
     "name": "stdout",
     "output_type": "stream",
     "text": [
      "// The Round Table\n",
      "digraph dot_test {\n",
      "\trankdir=LR\n",
      "\tA [label=\"King Arthur\"]\n",
      "\tB [label=\"Sir Bedevere the Wise\"]\n",
      "\tL [label=\"Sir Lancelot the Brave\"]\n",
      "\tA -> B\n",
      "\tA -> L\n",
      "\tB -> L [constraint=false]\n",
      "\tC [label=\"test label attr\"]\n",
      "}\n"
     ]
    }
   ],
   "source": [
    "print(dot.source) # 检查生成源代码"
   ]
  },
  {
   "cell_type": "code",
   "execution_count": 51,
   "metadata": {},
   "outputs": [
    {
     "data": {
      "text/plain": [
       "'test-output/round-table.gv.pdf'"
      ]
     },
     "execution_count": 51,
     "metadata": {},
     "output_type": "execute_result"
    }
   ],
   "source": [
    "dot.render('test-output/round-table.gv', view=True) # 查看结果"
   ]
  },
  {
   "cell_type": "code",
   "execution_count": 52,
   "metadata": {},
   "outputs": [
    {
     "data": {
      "text/plain": [
       "graphviz.dot.Digraph"
      ]
     },
     "execution_count": 52,
     "metadata": {},
     "output_type": "execute_result"
    }
   ],
   "source": [
    "type(dot)"
   ]
  },
  {
   "cell_type": "code",
   "execution_count": 56,
   "metadata": {},
   "outputs": [
    {
     "name": "stdout",
     "output_type": "stream",
     "text": [
      "<?xml version=\"1.0\" encoding=\"UTF-8\" standalone=\"no\"?>\n",
      "<!DOCTYPE svg PUBLIC \"-//W3C//DTD SVG 1.1//EN\"\n",
      " \"http://www.w3.org/Graphics/SVG/1.1/DTD/svg11.dtd\">\n",
      "<!-- Generated by graphviz version 2.40.1 (20161225.0304)\n",
      " -->\n",
      "<!-- Title: %3 Pages: 1 -->\n",
      "<svg width=\"532pt\" height=\"206pt\"\n",
      " viewBox=\"0.00 0.00 531.65 206.00\" xmlns=\"http://www.w3.org/2000/svg\" xmlns:xlink=\"http://www.w3.org/1999/xlink\">\n",
      "<g id=\"graph0\" class=\"graph\" transform=\"scale(1 1) rotate(0) translate(4 202)\">\n",
      "<title>%3</title>\n",
      "<polygon fill=\"#ffffff\" stroke=\"transparent\" points=\"-4,4 -4,-202 527.6471,-202 527.6471,4 -4,4\"/>\n",
      "<!-- A -->\n",
      "<g id=\"node1\" class=\"node\">\n",
      "<title>A</title>\n",
      "<ellipse fill=\"none\" stroke=\"#000000\" cx=\"33.1471\" cy=\"-179.5\" rx=\"33.2948\" ry=\"18\"/>\n",
      "<text text-anchor=\"middle\" x=\"33.1471\" y=\"-175.8\" font-family=\"Times,serif\" font-size=\"14.00\" fill=\"#000000\">Dot A</text>\n",
      "</g>\n",
      "<!-- B -->\n",
      "<g id=\"node2\" class=\"node\">\n",
      "<title>B</title>\n",
      "<ellipse fill=\"none\" stroke=\"#000000\" cx=\"33.1471\" cy=\"-106\" rx=\"32.4942\" ry=\"18\"/>\n",
      "<text text-anchor=\"middle\" x=\"33.1471\" y=\"-102.3\" font-family=\"Times,serif\" font-size=\"14.00\" fill=\"#000000\">Dot B</text>\n",
      "</g>\n",
      "<!-- A&#45;&gt;B -->\n",
      "<g id=\"edge1\" class=\"edge\">\n",
      "<title>A&#45;&gt;B</title>\n",
      "<path fill=\"none\" stroke=\"#000000\" d=\"M27.2688,-161.7077C26.4265,-153.3733 26.1946,-143.2474 26.573,-133.9265\"/>\n",
      "<polygon fill=\"#000000\" stroke=\"#000000\" points=\"30.0693,-134.0987 27.2597,-123.8832 23.0857,-133.6212 30.0693,-134.0987\"/>\n",
      "</g>\n",
      "<!-- A&#45;&gt;B -->\n",
      "<g id=\"edge3\" class=\"edge\">\n",
      "<title>A&#45;&gt;B</title>\n",
      "<path fill=\"none\" stroke=\"#000000\" d=\"M39.0253,-161.7077C39.8676,-153.3733 40.0995,-143.2474 39.7211,-133.9265\"/>\n",
      "<polygon fill=\"#000000\" stroke=\"#000000\" points=\"43.2085,-133.6212 39.0344,-123.8832 36.2248,-134.0987 43.2085,-133.6212\"/>\n",
      "</g>\n",
      "<!-- C -->\n",
      "<g id=\"node3\" class=\"node\">\n",
      "<title>C</title>\n",
      "<polygon fill=\"none\" stroke=\"#ff0000\" points=\"18.1471,-.5 18.1471,-36.5 108.1471,-36.5 108.1471,-.5 18.1471,-.5\"/>\n",
      "<text text-anchor=\"middle\" x=\"43.1471\" y=\"-14.8\" font-family=\"Times,serif\" font-size=\"14.00\" fill=\"#000000\">Dot C</text>\n",
      "<polyline fill=\"none\" stroke=\"#ff0000\" points=\"68.1471,-.5 68.1471,-36.5 \"/>\n",
      "<text text-anchor=\"middle\" x=\"78.1471\" y=\"-14.8\" font-family=\"Times,serif\" font-size=\"14.00\" fill=\"#000000\"> </text>\n",
      "<polyline fill=\"none\" stroke=\"#ff0000\" points=\"88.1471,-.5 88.1471,-36.5 \"/>\n",
      "<text text-anchor=\"middle\" x=\"98.1471\" y=\"-14.8\" font-family=\"Times,serif\" font-size=\"14.00\" fill=\"#000000\"> </text>\n",
      "</g>\n",
      "<!-- A&#45;&gt;C -->\n",
      "<g id=\"edge2\" class=\"edge\">\n",
      "<title>A&#45;&gt;C</title>\n",
      "<path fill=\"none\" stroke=\"#000000\" d=\"M49.2051,-163.6219C58.4549,-153.3058 69.201,-139.0195 74.1471,-124 82.5127,-98.5967 77.8459,-68.0615 72.2414,-46.3934\"/>\n",
      "<polygon fill=\"#000000\" stroke=\"#000000\" points=\"75.5442,-45.2091 69.4677,-36.53 68.8055,-47.1041 75.5442,-45.2091\"/>\n",
      "</g>\n",
      "<!-- B&#45;&gt;C -->\n",
      "<g id=\"edge4\" class=\"edge\">\n",
      "<title>B&#45;&gt;C</title>\n",
      "<path fill=\"none\" stroke=\"#000000\" d=\"M39.218,-88.2931C43.3512,-76.238 48.9065,-60.0351 53.6239,-46.2758\"/>\n",
      "<polygon fill=\"#000000\" stroke=\"#000000\" points=\"56.9461,-47.3776 56.8786,-36.7829 50.3245,-45.1072 56.9461,-47.3776\"/>\n",
      "<text text-anchor=\"middle\" x=\"60.1471\" y=\"-58.8\" font-family=\"Times,serif\" font-size=\"14.00\" fill=\"#000000\">test</text>\n",
      "</g>\n",
      "<!-- D -->\n",
      "<g id=\"node4\" class=\"node\">\n",
      "<title>D</title>\n",
      "<polygon fill=\"none\" stroke=\"#000000\" points=\"84.1471,-161.5 84.1471,-197.5 174.1471,-197.5 174.1471,-161.5 84.1471,-161.5\"/>\n",
      "<text text-anchor=\"middle\" x=\"109.1471\" y=\"-175.8\" font-family=\"Times,serif\" font-size=\"14.00\" fill=\"#000000\">Dot C</text>\n",
      "<polyline fill=\"none\" stroke=\"#000000\" points=\"134.1471,-161.5 134.1471,-197.5 \"/>\n",
      "<text text-anchor=\"middle\" x=\"144.1471\" y=\"-175.8\" font-family=\"Times,serif\" font-size=\"14.00\" fill=\"#000000\"> </text>\n",
      "<polyline fill=\"none\" stroke=\"#000000\" points=\"154.1471,-161.5 154.1471,-197.5 \"/>\n",
      "<text text-anchor=\"middle\" x=\"164.1471\" y=\"-175.8\" font-family=\"Times,serif\" font-size=\"14.00\" fill=\"#000000\"> </text>\n",
      "</g>\n",
      "<!-- 管理分组 -->\n",
      "<g id=\"node5\" class=\"node\">\n",
      "<title>管理分组</title>\n",
      "<polygon fill=\"none\" stroke=\"#000000\" points=\"192.6471,-161.5 192.6471,-197.5 523.6471,-197.5 523.6471,-161.5 192.6471,-161.5\"/>\n",
      "<text text-anchor=\"middle\" x=\"243.1471\" y=\"-175.8\" font-family=\"Times,serif\" font-size=\"14.00\" fill=\"#000000\">如何管理分组</text>\n",
      "<polyline fill=\"none\" stroke=\"#000000\" points=\"293.6471,-161.5 293.6471,-197.5 \"/>\n",
      "<text text-anchor=\"middle\" x=\"330.1471\" y=\"-175.8\" font-family=\"Times,serif\" font-size=\"14.00\" fill=\"#000000\">创建分组</text>\n",
      "<polyline fill=\"none\" stroke=\"#000000\" points=\"366.6471,-161.5 366.6471,-197.5 \"/>\n",
      "<text text-anchor=\"middle\" x=\"445.1471\" y=\"-175.8\" font-family=\"Times,serif\" font-size=\"14.00\" fill=\"#000000\">列出组成员｜管理分组</text>\n",
      "</g>\n",
      "</g>\n",
      "</svg>\n",
      "\n"
     ]
    }
   ],
   "source": [
    "print(dot.pipe().decode('utf-8'))"
   ]
  },
  {
   "cell_type": "code",
   "execution_count": 58,
   "metadata": {},
   "outputs": [],
   "source": [
    "from graphviz import Graph"
   ]
  },
  {
   "cell_type": "code",
   "execution_count": 61,
   "metadata": {},
   "outputs": [
    {
     "name": "stdout",
     "output_type": "stream",
     "text": [
      "graph ni {\n",
      "\tnode [shape=rarrow]\n",
      "\t1 [label=\"Ni!\"]\n",
      "\t2 [label=\"Ni!\"]\n",
      "\t3 [label=\"Ni!\" shape=egg]\n",
      "\tnode [shape=star]\n",
      "\t4 [label=\"Ni!\"]\n",
      "\t5 [label=\"Ni!\"]\n",
      "\trankdir=LR\n",
      "\t1 -- 2\n",
      "\t2 -- 3\n",
      "\t3 -- 4\n",
      "\t4 -- 5\n",
      "}\n"
     ]
    }
   ],
   "source": [
    "ni = Graph('ni')\n",
    "ni.attr('node', shape='rarrow')\n",
    "ni.node('1', 'Ni!')\n",
    "ni.node('2', 'Ni!')\n",
    "ni.node('3', 'Ni!', shape='egg')\n",
    "\n",
    "ni.attr('node', shape='star')\n",
    "ni.node('4', 'Ni!')\n",
    "ni.node('5', 'Ni!')\n",
    "\n",
    "ni.attr(rankdir='LR')\n",
    "\n",
    "ni.edges(['12','23','34','45'])\n",
    "print(ni.source)"
   ]
  },
  {
   "cell_type": "code",
   "execution_count": 62,
   "metadata": {},
   "outputs": [
    {
     "data": {
      "image/svg+xml": [
       "<?xml version=\"1.0\" encoding=\"UTF-8\" standalone=\"no\"?>\n",
       "<!DOCTYPE svg PUBLIC \"-//W3C//DTD SVG 1.1//EN\"\n",
       " \"http://www.w3.org/Graphics/SVG/1.1/DTD/svg11.dtd\">\n",
       "<!-- Generated by graphviz version 2.40.1 (20161225.0304)\n",
       " -->\n",
       "<!-- Title: ni Pages: 1 -->\n",
       "<svg width=\"522pt\" height=\"105pt\"\n",
       " viewBox=\"0.00 0.00 522.37 105.43\" xmlns=\"http://www.w3.org/2000/svg\" xmlns:xlink=\"http://www.w3.org/1999/xlink\">\n",
       "<g id=\"graph0\" class=\"graph\" transform=\"scale(1 1) rotate(0) translate(4 101.4296)\">\n",
       "<title>ni</title>\n",
       "<polygon fill=\"#ffffff\" stroke=\"transparent\" points=\"-4,4 -4,-101.4296 518.3739,-101.4296 518.3739,4 -4,4\"/>\n",
       "<!-- 1 -->\n",
       "<g id=\"node1\" class=\"node\">\n",
       "<title>1</title>\n",
       "<polygon fill=\"none\" stroke=\"#000000\" points=\"36,-60.7148 0,-60.7148 0,-36.7148 36,-36.7148 36,-30.7148 54,-48.7148 36,-66.7148 36,-60.7148\"/>\n",
       "<text text-anchor=\"middle\" x=\"27\" y=\"-45.0148\" font-family=\"Times,serif\" font-size=\"14.00\" fill=\"#000000\">Ni!</text>\n",
       "</g>\n",
       "<!-- 2 -->\n",
       "<g id=\"node2\" class=\"node\">\n",
       "<title>2</title>\n",
       "<polygon fill=\"none\" stroke=\"#000000\" points=\"126,-60.7148 90,-60.7148 90,-36.7148 126,-36.7148 126,-30.7148 144,-48.7148 126,-66.7148 126,-60.7148\"/>\n",
       "<text text-anchor=\"middle\" x=\"117\" y=\"-45.0148\" font-family=\"Times,serif\" font-size=\"14.00\" fill=\"#000000\">Ni!</text>\n",
       "</g>\n",
       "<!-- 1&#45;&#45;2 -->\n",
       "<g id=\"edge1\" class=\"edge\">\n",
       "<title>1&#45;&#45;2</title>\n",
       "<path fill=\"none\" stroke=\"#000000\" d=\"M54.003,-48.7148C65.2905,-48.7148 78.3867,-48.7148 89.705,-48.7148\"/>\n",
       "</g>\n",
       "<!-- 3 -->\n",
       "<g id=\"node3\" class=\"node\">\n",
       "<title>3</title>\n",
       "<polygon fill=\"none\" stroke=\"#000000\" points=\"211.426,-30.7641 213.202,-30.8627 214.9597,-31.0101 216.6919,-31.2061 218.3915,-31.4501 220.0517,-31.7414 221.666,-32.0792 223.2281,-32.4627 224.732,-32.8907 226.1722,-33.362 227.5435,-33.8754 228.8411,-34.4295 230.0607,-35.0228 231.1984,-35.6536 232.2508,-36.3202 233.2152,-37.0207 234.089,-37.7533 234.8704,-38.516 235.558,-39.3066 236.151,-40.123 236.6489,-40.9629 237.052,-41.8241 237.3606,-42.7042 237.5759,-43.6008 237.6992,-44.5113 237.7324,-45.4334 237.6776,-46.3645 237.5374,-47.302 237.3145,-48.2434 237.0121,-49.1861 236.6334,-50.1275 236.182,-51.0651 235.6616,-51.9961 235.0759,-52.9182 234.4287,-53.8288 233.7241,-54.7254 232.966,-55.6054 232.1582,-56.4666 231.3048,-57.3066 230.4093,-58.123 229.4757,-58.9136 228.5074,-59.6762 227.5078,-60.4089 226.4803,-61.1094 225.4278,-61.776 224.3533,-62.4068 223.2595,-63 222.1488,-63.5541 221.0235,-64.0676 219.8858,-64.5389 218.7373,-64.9669 217.58,-65.3503 216.4152,-65.6881 215.2443,-65.9795 214.0685,-66.2234 212.8889,-66.4194 211.7065,-66.5669 210.522,-66.6654 209.3364,-66.7148 208.1505,-66.7148 206.9649,-66.6654 205.7804,-66.5669 204.598,-66.4194 203.4184,-66.2234 202.2426,-65.9795 201.0717,-65.6881 199.9069,-65.3503 198.7495,-64.9669 197.6011,-64.5389 196.4633,-64.0676 195.3381,-63.5541 194.2274,-63 193.1335,-62.4068 192.0591,-61.776 191.0066,-61.1094 189.9791,-60.4089 188.9795,-59.6762 188.0112,-58.9136 187.0775,-58.123 186.1821,-57.3066 185.3286,-56.4666 184.5209,-55.6054 183.7628,-54.7254 183.0582,-53.8288 182.411,-52.9182 181.8253,-51.9961 181.3048,-51.0651 180.8534,-50.1275 180.4748,-49.1861 180.1724,-48.2434 179.9495,-47.302 179.8093,-46.3645 179.7545,-45.4334 179.7877,-44.5113 179.911,-43.6008 180.1263,-42.7042 180.4349,-41.8241 180.8379,-40.9629 181.3359,-40.123 181.9289,-39.3066 182.6165,-38.516 183.3979,-37.7533 184.2717,-37.0207 185.2361,-36.3202 186.2885,-35.6536 187.4262,-35.0228 188.6458,-34.4295 189.9434,-33.8754 191.3147,-33.362 192.7549,-32.8907 194.2588,-32.4627 195.8209,-32.0792 197.4352,-31.7414 199.0954,-31.4501 200.795,-31.2061 202.5271,-31.0101 204.2848,-30.8627 206.0609,-30.7641 207.848,-30.7148 209.6389,-30.7148 211.426,-30.7641\"/>\n",
       "<text text-anchor=\"middle\" x=\"208.7434\" y=\"-45.0148\" font-family=\"Times,serif\" font-size=\"14.00\" fill=\"#000000\">Ni!</text>\n",
       "</g>\n",
       "<!-- 2&#45;&#45;3 -->\n",
       "<g id=\"edge2\" class=\"edge\">\n",
       "<title>2&#45;&#45;3</title>\n",
       "<path fill=\"none\" stroke=\"#000000\" d=\"M144.0299,-48.7148C155.4467,-48.7148 168.7482,-48.7148 180.3122,-48.7148\"/>\n",
       "</g>\n",
       "<!-- 4 -->\n",
       "<g id=\"node4\" class=\"node\">\n",
       "<title>4</title>\n",
       "<polygon fill=\"none\" stroke=\"#000000\" points=\"376.1531,-60.2657 336.853,-60.2657 324.7086,-97.6453 312.5642,-60.2657 273.2642,-60.2657 305.0586,-37.1639 292.9142,.2157 324.7086,-22.8861 356.5031,.2157 344.3587,-37.1639 376.1531,-60.2657\"/>\n",
       "<text text-anchor=\"middle\" x=\"324.7086\" y=\"-45.0148\" font-family=\"Times,serif\" font-size=\"14.00\" fill=\"#000000\">Ni!</text>\n",
       "</g>\n",
       "<!-- 3&#45;&#45;4 -->\n",
       "<g id=\"edge3\" class=\"edge\">\n",
       "<title>3&#45;&#45;4</title>\n",
       "<path fill=\"none\" stroke=\"#000000\" d=\"M237.409,-48.7148C252.9696,-48.7148 272.353,-48.7148 288.8998,-48.7148\"/>\n",
       "</g>\n",
       "<!-- 5 -->\n",
       "<g id=\"node5\" class=\"node\">\n",
       "<title>5</title>\n",
       "<polygon fill=\"none\" stroke=\"#000000\" points=\"514.5966,-60.2657 475.2965,-60.2657 463.1521,-97.6453 451.0078,-60.2657 411.7077,-60.2657 443.5021,-37.1639 431.3577,.2157 463.1521,-22.8861 494.9466,.2157 482.8022,-37.1639 514.5966,-60.2657\"/>\n",
       "<text text-anchor=\"middle\" x=\"463.1521\" y=\"-45.0148\" font-family=\"Times,serif\" font-size=\"14.00\" fill=\"#000000\">Ni!</text>\n",
       "</g>\n",
       "<!-- 4&#45;&#45;5 -->\n",
       "<g id=\"edge4\" class=\"edge\">\n",
       "<title>4&#45;&#45;5</title>\n",
       "<path fill=\"none\" stroke=\"#000000\" d=\"M360.3613,-48.7148C381.0314,-48.7148 406.9708,-48.7148 427.6203,-48.7148\"/>\n",
       "</g>\n",
       "</g>\n",
       "</svg>\n"
      ],
      "text/plain": [
       "<graphviz.dot.Graph at 0x1071545f8>"
      ]
     },
     "execution_count": 62,
     "metadata": {},
     "output_type": "execute_result"
    }
   ],
   "source": [
    "ni"
   ]
  },
  {
   "cell_type": "code",
   "execution_count": 113,
   "metadata": {},
   "outputs": [],
   "source": [
    "mygra = Digraph('mygra', comment='my graph', format='pdf', graph_attr={'rankdir':'LR'},node_attr={'shape':'record'})"
   ]
  },
  {
   "cell_type": "code",
   "execution_count": 114,
   "metadata": {},
   "outputs": [],
   "source": [
    "mygra.node('P', 'thingking by python')\n",
    "mygra.node('O', '<f0>Objects|Graph|Digraph')\n",
    "mygra.node('M', '<f0>Methods|node|edge')\n",
    "mygra.node('A', '<f0>attributes|graph_attr|node_attr|edge_attr')"
   ]
  },
  {
   "cell_type": "code",
   "execution_count": 115,
   "metadata": {},
   "outputs": [],
   "source": [
    "mygra.edges(['PO','OM','OA','MA'])"
   ]
  },
  {
   "cell_type": "code",
   "execution_count": 125,
   "metadata": {},
   "outputs": [
    {
     "name": "stdout",
     "output_type": "stream",
     "text": [
      "// my graph\n",
      "digraph mygra {\n",
      "\tgraph [rankdir=LR]\n",
      "\tnode [shape=record]\n",
      "\tP [label=\"thingking by python\"]\n",
      "\tO [label=\"<f0>Objects|Graph|Digraph\"]\n",
      "\tM [label=\"<f0>Methods|node|edge\"]\n",
      "\tA [label=\"<f0>attributes|graph_attr|node_attr|edge_attr\"]\n",
      "\tP -> O\n",
      "\tO -> M\n",
      "\tO -> A\n",
      "\tM -> A\n",
      "}\n"
     ]
    }
   ],
   "source": [
    "print(mygra.source)"
   ]
  },
  {
   "cell_type": "code",
   "execution_count": 126,
   "metadata": {},
   "outputs": [],
   "source": [
    "from graphviz import Source"
   ]
  },
  {
   "cell_type": "code",
   "execution_count": 139,
   "metadata": {},
   "outputs": [],
   "source": [
    "one = Source('''digraph mygra {\n",
    "\tgraph [rankdir=LR]\n",
    "\tnode [shape=record]\n",
    "\tP [label=\"thingking by python\"]\n",
    "\tO [label=\"<f0>Objects|<f1>Graph|<f2>Digraph\"]\n",
    "\tM [label=\"<f0>Methods|<f1>node|<f2>edge\"]\n",
    "\tA [label=\"<f0>attributes|<f1>graph_attr|<f2>node_attr|<f3>edge_attr\"]\n",
    "\tP -> O:f0\n",
    "    O:f0 -> M:f0\n",
    "\tO:f0 -> A:f1\n",
    "    M:f1 -> A:f2\n",
    "    M:f2 -> A:f3\n",
    "    }''')"
   ]
  },
  {
   "cell_type": "code",
   "execution_count": 140,
   "metadata": {},
   "outputs": [
    {
     "data": {
      "image/svg+xml": [
       "<?xml version=\"1.0\" encoding=\"UTF-8\" standalone=\"no\"?>\n",
       "<!DOCTYPE svg PUBLIC \"-//W3C//DTD SVG 1.1//EN\"\n",
       " \"http://www.w3.org/Graphics/SVG/1.1/DTD/svg11.dtd\">\n",
       "<!-- Generated by graphviz version 2.40.1 (20161225.0304)\n",
       " -->\n",
       "<!-- Title: mygra Pages: 1 -->\n",
       "<svg width=\"448pt\" height=\"105pt\"\n",
       " viewBox=\"0.00 0.00 448.00 104.50\" xmlns=\"http://www.w3.org/2000/svg\" xmlns:xlink=\"http://www.w3.org/1999/xlink\">\n",
       "<g id=\"graph0\" class=\"graph\" transform=\"scale(1 1) rotate(0) translate(4 100.5)\">\n",
       "<title>mygra</title>\n",
       "<polygon fill=\"#ffffff\" stroke=\"transparent\" points=\"-4,4 -4,-100.5 444,-100.5 444,4 -4,4\"/>\n",
       "<!-- P -->\n",
       "<g id=\"node1\" class=\"node\">\n",
       "<title>P</title>\n",
       "<polygon fill=\"none\" stroke=\"#000000\" points=\"0,-60 0,-96 130,-96 130,-60 0,-60\"/>\n",
       "<text text-anchor=\"middle\" x=\"65\" y=\"-74.3\" font-family=\"Times,serif\" font-size=\"14.00\" fill=\"#000000\">thingking by python</text>\n",
       "</g>\n",
       "<!-- O -->\n",
       "<g id=\"node2\" class=\"node\">\n",
       "<title>O</title>\n",
       "<polygon fill=\"none\" stroke=\"#000000\" points=\"166,-20.5 166,-89.5 228,-89.5 228,-20.5 166,-20.5\"/>\n",
       "<text text-anchor=\"middle\" x=\"197\" y=\"-74.3\" font-family=\"Times,serif\" font-size=\"14.00\" fill=\"#000000\">Objects</text>\n",
       "<polyline fill=\"none\" stroke=\"#000000\" points=\"166,-66.5 228,-66.5 \"/>\n",
       "<text text-anchor=\"middle\" x=\"197\" y=\"-51.3\" font-family=\"Times,serif\" font-size=\"14.00\" fill=\"#000000\">Graph</text>\n",
       "<polyline fill=\"none\" stroke=\"#000000\" points=\"166,-43.5 228,-43.5 \"/>\n",
       "<text text-anchor=\"middle\" x=\"197\" y=\"-28.3\" font-family=\"Times,serif\" font-size=\"14.00\" fill=\"#000000\">Digraph</text>\n",
       "</g>\n",
       "<!-- P&#45;&gt;O -->\n",
       "<g id=\"edge1\" class=\"edge\">\n",
       "<title>P&#45;&gt;O:f0</title>\n",
       "<path fill=\"none\" stroke=\"#000000\" d=\"M130.1973,-78C138.6653,-78 147.3393,-78 155.805,-78\"/>\n",
       "<polygon fill=\"#000000\" stroke=\"#000000\" points=\"156,-81.5001 166,-78 156,-74.5001 156,-81.5001\"/>\n",
       "</g>\n",
       "<!-- M -->\n",
       "<g id=\"node3\" class=\"node\">\n",
       "<title>M</title>\n",
       "<polygon fill=\"none\" stroke=\"#000000\" points=\"264,-.5 264,-69.5 330,-69.5 330,-.5 264,-.5\"/>\n",
       "<text text-anchor=\"middle\" x=\"297\" y=\"-54.3\" font-family=\"Times,serif\" font-size=\"14.00\" fill=\"#000000\">Methods</text>\n",
       "<polyline fill=\"none\" stroke=\"#000000\" points=\"264,-46.5 330,-46.5 \"/>\n",
       "<text text-anchor=\"middle\" x=\"297\" y=\"-31.3\" font-family=\"Times,serif\" font-size=\"14.00\" fill=\"#000000\">node</text>\n",
       "<polyline fill=\"none\" stroke=\"#000000\" points=\"264,-23.5 330,-23.5 \"/>\n",
       "<text text-anchor=\"middle\" x=\"297\" y=\"-8.3\" font-family=\"Times,serif\" font-size=\"14.00\" fill=\"#000000\">edge</text>\n",
       "</g>\n",
       "<!-- O&#45;&gt;M -->\n",
       "<g id=\"edge2\" class=\"edge\">\n",
       "<title>O:f0&#45;&gt;M:f0</title>\n",
       "<path fill=\"none\" stroke=\"#000000\" d=\"M228,-78C242.1565,-78 245.0009,-66.0359 254.0316,-60.6147\"/>\n",
       "<polygon fill=\"#000000\" stroke=\"#000000\" points=\"255.2152,-63.9227 264,-58 253.4392,-57.1517 255.2152,-63.9227\"/>\n",
       "</g>\n",
       "<!-- A -->\n",
       "<g id=\"node4\" class=\"node\">\n",
       "<title>A</title>\n",
       "<polygon fill=\"none\" stroke=\"#000000\" points=\"366,-1 366,-93 440,-93 440,-1 366,-1\"/>\n",
       "<text text-anchor=\"middle\" x=\"403\" y=\"-77.8\" font-family=\"Times,serif\" font-size=\"14.00\" fill=\"#000000\">attributes</text>\n",
       "<polyline fill=\"none\" stroke=\"#000000\" points=\"366,-70 440,-70 \"/>\n",
       "<text text-anchor=\"middle\" x=\"403\" y=\"-54.8\" font-family=\"Times,serif\" font-size=\"14.00\" fill=\"#000000\">graph_attr</text>\n",
       "<polyline fill=\"none\" stroke=\"#000000\" points=\"366,-47 440,-47 \"/>\n",
       "<text text-anchor=\"middle\" x=\"403\" y=\"-31.8\" font-family=\"Times,serif\" font-size=\"14.00\" fill=\"#000000\">node_attr</text>\n",
       "<polyline fill=\"none\" stroke=\"#000000\" points=\"366,-24 440,-24 \"/>\n",
       "<text text-anchor=\"middle\" x=\"403\" y=\"-8.8\" font-family=\"Times,serif\" font-size=\"14.00\" fill=\"#000000\">edge_attr</text>\n",
       "</g>\n",
       "<!-- O&#45;&gt;A -->\n",
       "<g id=\"edge3\" class=\"edge\">\n",
       "<title>O:f0&#45;&gt;A:f1</title>\n",
       "<path fill=\"none\" stroke=\"#000000\" d=\"M228,-78C273.3355,-78 286.1139,-90.372 330,-79 343.7039,-75.449 346.7958,-65.4268 355.9619,-61.0678\"/>\n",
       "<polygon fill=\"#000000\" stroke=\"#000000\" points=\"356.9118,-64.4457 366,-59 355.4995,-57.5897 356.9118,-64.4457\"/>\n",
       "</g>\n",
       "<!-- M&#45;&gt;A -->\n",
       "<g id=\"edge4\" class=\"edge\">\n",
       "<title>M:f1&#45;&gt;A:f2</title>\n",
       "<path fill=\"none\" stroke=\"#000000\" d=\"M330,-35C342,-35 347.25,-35 355.875,-35\"/>\n",
       "<polygon fill=\"#000000\" stroke=\"#000000\" points=\"356,-38.5001 366,-35 356,-31.5001 356,-38.5001\"/>\n",
       "</g>\n",
       "<!-- M&#45;&gt;A -->\n",
       "<g id=\"edge5\" class=\"edge\">\n",
       "<title>M:f2&#45;&gt;A:f3</title>\n",
       "<path fill=\"none\" stroke=\"#000000\" d=\"M330,-12C342,-12 347.25,-12 355.875,-12\"/>\n",
       "<polygon fill=\"#000000\" stroke=\"#000000\" points=\"356,-15.5001 366,-12 356,-8.5001 356,-15.5001\"/>\n",
       "</g>\n",
       "</g>\n",
       "</svg>\n"
      ],
      "text/plain": [
       "<graphviz.files.Source at 0x106e7eef0>"
      ]
     },
     "execution_count": 140,
     "metadata": {},
     "output_type": "execute_result"
    }
   ],
   "source": [
    "one"
   ]
  },
  {
   "cell_type": "code",
   "execution_count": null,
   "metadata": {},
   "outputs": [],
   "source": []
  }
 ],
 "metadata": {
  "kernelspec": {
   "display_name": "mac",
   "language": "python",
   "name": "mac"
  },
  "language_info": {
   "codemirror_mode": {
    "name": "ipython",
    "version": 3
   },
   "file_extension": ".py",
   "mimetype": "text/x-python",
   "name": "python",
   "nbconvert_exporter": "python",
   "pygments_lexer": "ipython3",
   "version": "3.7.3"
  }
 },
 "nbformat": 4,
 "nbformat_minor": 2
}
